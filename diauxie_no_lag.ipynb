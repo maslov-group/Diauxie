{
 "cells": [
  {
   "cell_type": "markdown",
   "metadata": {},
   "source": [
    "Outline of simulations:\n",
    "- generate all possible resource preference lists\n",
    "    \n",
    "- generate growth rates for each resource for each species (draw them from a normal distribution, to avoid super-bug and extreme specialists)\n",
    "- pick resource concentrations (start with equal case 1:1, then test 2:1 etc.)\n",
    "- perform species invasions from the pool until the uninvadable state is reached via dynamic simulations\n",
    "- keep track of invasion events, so we'll be able to plot diversity w/ time, complementarity w/ time, etc.\n",
    "\n",
    "How to do serial dilution computation - perform stepwise estimation for resource usage:\n",
    "- start with $B_0$ and $C_0$, get equations for each resource, solve for T\n",
    "- compare T of resource depletion\n",
    "- pick the smallest time, switch resources\n",
    "- update bacterial abundances and resource concentrations\n",
    "- continue until end of dilution cycle reached/all resources depleted\n",
    "- every bacteria, with population below the threshold (e.g. $10^{-5}$) is doomed to be extinct\n",
    "- the steady state should be reached in 5-10 dilution cycles\n",
    "- make sure that any leftovers of the resources, that are unused by the end of the cycle are added to the new one with the same dilution factor as bacterial abundances (it's important for the low dilution case)\n",
    "\n",
    "List of questions\n",
    "- what is the optimal diauxic strategy?\n",
    "- we expect to get a set of microbes with a complementary growth strategies in the end. Is it true?\n",
    "- is it true that unequal resource supply will change the winning strategy?\n",
    "\n",
    "Problem\n",
    "- We may not find every uninvadable state in this fashion. Given a pool it could only find one. \n"
   ]
  },
  {
   "cell_type": "code",
   "execution_count": 2,
   "metadata": {},
   "outputs": [],
   "source": [
    "# initialization\n",
    "\n",
    "import numpy as np\n",
    "import math\n",
    "import random\n",
    "import itertools\n",
    "from scipy.optimize import root\n",
    "import copy\n",
    "import time\n",
    "# set resource number and amount\n",
    "Nr = 3\n",
    "Res = [1.0, 1.0, 1.0]\n",
    "\n",
    "# generate species pool: growth rate from gaussian; preference list; invasion order\n",
    "# growth rates\n",
    "Size = 20 # number of samples from each species\n",
    "Nb = math.factorial(Nr)*Size\n",
    "g_mean, g_var = 1, 0.2\n",
    "growth_rate_list = np.exp(np.random.normal(g_mean, math.sqrt(g_var), (Nb, Nr)))\n",
    "filt = np.heaviside(growth_rate_list, 0)\n",
    "growth_rate_list = filt*growth_rate_list\n",
    "#preference list\n",
    "preference_list = list(itertools.permutations(range(Nr), Nr))\n",
    "b0 = 1e-3 # density of bug when introduced/initial\n",
    "b_threshold = 1e-6 # extinction density\n",
    "c_threshold = 1e-9 # concentration threshold\n",
    "# invasion order\n",
    "invasion_list = list(range(Nb))\n",
    "random.shuffle(invasion_list)\n",
    "# yields\n",
    "yields_list = 0.5*np.ones([Nb, Nr]) # might need to be modified later?\n",
    "\n",
    "# dilution parameters \n",
    "D = 1e-3\n",
    "tau = 0 # lag\n",
    "T_dilute = 10 # time interval between dilutions\n",
    "dilute_to_steady = 10 # #(dilution) between invasions"
   ]
  },
  {
   "cell_type": "code",
   "execution_count": 3,
   "metadata": {},
   "outputs": [],
   "source": [
    "def dilute(system): \n",
    "    global t_system\n",
    "    t_switch = 0\n",
    "    while t_switch < T_dilute:\n",
    "        #list of resource in use for each consumer\n",
    "        use = [0 for i in range(Nb)]\n",
    "        # list of consumers for each resource\n",
    "        consumer = [[] for i in range(Nr)]\n",
    "        for i in range(Nb):\n",
    "            # if all are depleted, bug still uses its least preferred nutrient\n",
    "            while system['res_available'][preference_list[i//Size][use[i]]] < 1 and use[i] < Nr - 1:\n",
    "                use[i] = use[i] + 1\n",
    "            if system['bug_available'][i] > 0:\n",
    "                consumer[preference_list[i//Size][use[i]]].append(i)\n",
    "        # find the earliest depleted resource\n",
    "        t_dep = T_dilute - t_switch\n",
    "        for i in range(Nr):\n",
    "            if system['res_available'][i] > 0:\n",
    "                def remain(t):  \n",
    "                    # S = c - sum(B0(e^gt-1)/Y)                \n",
    "                    return system['res_concentration'][i] - sum([system['bug_density'][j]*(math.exp(t*growth_rate_list[j][i]) - 1)/yields_list[j][i] for j in consumer[i]])\n",
    "                # a little bit tricky here...\n",
    "                t_i = root(remain, T_dilute + 1).x[0]\n",
    "                if t_i < t_dep:\n",
    "                    t_dep = t_i\n",
    "        # update the system according to this t_dep\n",
    "        t_switch = t_switch + t_dep\n",
    "        temp_bug_density = [i for i in system['bug_density']]\n",
    "        for i in range(Nb):\n",
    "            if system['res_available'][preference_list[i//Size][use[i]]] > 0:\n",
    "                temp_bug_density[i] = system['bug_density'][i]*math.exp(growth_rate_list[i][preference_list[i//Size][use[i]]]*t_dep)\n",
    "        for i in range(Nr):\n",
    "            if system['res_available'][i] > 0:\n",
    "                system['res_concentration'][i] = system['res_concentration'][i] - sum([system['bug_density'][j]*(math.exp(t_dep*growth_rate_list[j][i]) - 1)/yields_list[j][i] for j in consumer[i]])\n",
    "                if system['res_concentration'][i] < c_threshold: \n",
    "                    system['res_available'][i] = 0\n",
    "        for i in range(Nb):\n",
    "            system['bug_density'][i] = temp_bug_density[i]\n",
    "    #print(system)\n",
    "    system_copy = copy.deepcopy(system)\n",
    "    t_system.append(system_copy)\n",
    "    #print(\"diluted once\")\n",
    "    return system\n",
    "\n",
    "def dilute_check(system):\n",
    "    t_points = []\n",
    "    c_points = []\n",
    "    r1_points = []\n",
    "    r2_points = []\n",
    "    r3_points = []\n",
    "    global t_system\n",
    "    t_switch = 0\n",
    "    t_points.append(t_switch)\n",
    "    survivors, concent, pref_list, growth = output(system)\n",
    "    c_points.append(concent)\n",
    "    while t_switch < T_dilute:\n",
    "        r1_points.append(system['res_concentration'][0])\n",
    "        r2_points.append(system['res_concentration'][1])\n",
    "        r3_points.append(system['res_concentration'][2])\n",
    "        #list of resource in use for each consumer\n",
    "        use = [0 for i in range(Nb)]\n",
    "        # list of consumers for each resource\n",
    "        consumer = [[] for i in range(Nr)]\n",
    "        for i in range(Nb):\n",
    "            # if all are depleted, bug still uses its least preferred nutrient\n",
    "            while system['res_available'][preference_list[i//Size][use[i]]] < 1 and use[i] < Nr - 1:\n",
    "                use[i] = use[i] + 1\n",
    "            if system['bug_available'][i] > 0:\n",
    "                consumer[preference_list[i//Size][use[i]]].append(i)\n",
    "        # find the earliest depleted resource\n",
    "        t_dep = T_dilute - t_switch\n",
    "        for i in range(Nr):\n",
    "            if system['res_available'][i] > 0:\n",
    "                def remain(t):  \n",
    "                    # S = c - sum(B0(e^gt-1)/Y)                \n",
    "                    return system['res_concentration'][i] - sum([system['bug_density'][j]*(math.exp(t*growth_rate_list[j][i]) - 1)/yields_list[j][i] for j in consumer[i]])\n",
    "                # a little bit tricky here...\n",
    "                t_i = root(remain, T_dilute + 1).x[0]\n",
    "                if t_i < t_dep:\n",
    "                    t_dep = t_i\n",
    "        # update the system according to this t_dep\n",
    "        t_switch = t_switch + t_dep\n",
    "        temp_bug_density = [i for i in system['bug_density']]\n",
    "        for i in range(Nb):\n",
    "            if system['res_available'][preference_list[i//Size][use[i]]] > 0:\n",
    "                temp_bug_density[i] = system['bug_density'][i]*math.exp(growth_rate_list[i][preference_list[i//Size][use[i]]]*t_dep)\n",
    "        for i in range(Nr):\n",
    "            if system['res_available'][i] > 0:\n",
    "                system['res_concentration'][i] = system['res_concentration'][i] - sum([system['bug_density'][j]*(math.exp(t_dep*growth_rate_list[j][i]) - 1)/yields_list[j][i] for j in consumer[i]])\n",
    "                if system['res_concentration'][i] < c_threshold: \n",
    "                    system['res_available'][i] = 0\n",
    "        for i in range(Nb):\n",
    "            system['bug_density'][i] = temp_bug_density[i]\n",
    "        t_points.append(t_switch)\n",
    "        survivors, concent, pref_list, growth = output(system)\n",
    "        c_points.append(concent)\n",
    "    #print(system)\n",
    "    system_copy = copy.deepcopy(system)\n",
    "    t_system.append(system_copy)\n",
    "    #print(\"diluted once\")\n",
    "    return system, t_points, c_points, r1_points, r2_points, r3_points\n",
    "        \n",
    "def move_to_new(system):\n",
    "    system['bug_density'] = [(i*D > b_threshold)*i*D for i in system['bug_density']]\n",
    "    system['bug_available'] = [1*(system['bug_density'][i] > b_threshold) for i in range(Nb)]\n",
    "    system['res_concentration'] = [(system['res_concentration'][i]*D + Res[i]) / (D + 1) for i in range(Nr)]\n",
    "    system['res_available'] = [1*(system['res_concentration'][i] > c_threshold) for i in range(Nr)]\n",
    "    return system\n",
    "\n",
    "def invade(system, bug):\n",
    "    #print(\"one invasion\")\n",
    "    # (starting from a new flask)\n",
    "    # then add invasive species\n",
    "    system['bug_available'][bug] = 1\n",
    "    system['bug_density'][bug] = b0\n",
    "    # then dilute till steady\n",
    "    for i in range(dilute_to_steady):\n",
    "        system = dilute(system)\n",
    "        # move to a new flask\n",
    "        system = move_to_new(system)\n",
    "        \n",
    "    ext_list = [i for i, v in enumerate(system['bug_available']) if v==0]\n",
    "    return system, ext_list\n",
    "    \n",
    "def round_robin_invade(system, ext_list):\n",
    "    for bug in ext_list:\n",
    "        system, new_ext_list = invade(system, bug)\n",
    "    return system, new_ext_list\n",
    "\n",
    "def output(system):\n",
    "    survivors = [i for i, v in enumerate(system['bug_available']) if v != 0]\n",
    "    pref_list = []\n",
    "    concent = []\n",
    "    growth = []\n",
    "    for i in survivors:\n",
    "        pref_list.append(preference_list[i//Size])\n",
    "        concent.append(system['bug_density'][i])\n",
    "        growth.append(growth_rate_list[i])\n",
    "    return survivors, concent, pref_list, growth"
   ]
  },
  {
   "cell_type": "code",
   "execution_count": 4,
   "metadata": {},
   "outputs": [
    {
     "name": "stdout",
     "output_type": "stream",
     "text": [
      "[8, 80, 9, 64, 52, 23, 42, 10, 30, 22, 33, 65, 108, 91, 41, 101, 55, 111, 88, 2, 104, 21, 43, 35, 114, 110, 59, 68, 97, 113, 51, 57, 47, 94, 1, 37, 3, 102, 67, 12, 32, 24, 58, 117, 75, 70, 90, 56, 71, 105, 98, 63, 87, 19, 45, 20, 74, 15, 119, 40, 17, 76, 39, 61, 116, 77, 14, 96, 112, 6, 53, 83, 95, 93, 46, 100, 79, 18, 50, 72, 115, 85, 106, 62, 38, 36, 92, 0, 48, 118, 5, 73, 7, 13, 28, 16, 78, 4, 69, 31, 26, 54, 11, 60, 84, 66, 89, 29, 49, 107, 44, 103, 86, 81, 109, 27, 34, 99, 82, 25]\n",
      "[1, 52, 100]\n",
      "11.099608898162842\n"
     ]
    }
   ],
   "source": [
    "# simulation\n",
    "start = time.time()\n",
    "Res_copy = [i for i in Res]\n",
    "system = {'res_available': np.heaviside(Res, 0), 'res_concentration': Res_copy, 'bug_available': [0 for i in range(Nb)], 'bug_density': [0 for i in range(Nb)]} \n",
    "t_system = [system] # snapshots of systems at the end of each dilution\n",
    "# ext_list: list of bugs not in the community\n",
    "old_ext_list = invasion_list\n",
    "print(old_ext_list)\n",
    "system, new_ext_list = round_robin_invade(system, old_ext_list)\n",
    "count = 0\n",
    "while new_ext_list != old_ext_list and count < 100:\n",
    "    old_ext_list = new_ext_list\n",
    "    survivors, concent, pref_list, growth = output(system)\n",
    "    print(survivors)\n",
    "    system, new_ext_list = round_robin_invade(system, old_ext_list)\n",
    "    count = count + 1\n",
    "end = time.time()\n",
    "print(end - start)"
   ]
  },
  {
   "cell_type": "code",
   "execution_count": 5,
   "metadata": {},
   "outputs": [
    {
     "data": {
      "text/plain": [
       "([1, 52, 100],\n",
       " [0.0006009434484984704, 0.00031228156513136117, 0.0005867764863716694],\n",
       " [(0, 1, 2), (1, 0, 2), (2, 1, 0)],\n",
       " [array([9.20247937, 2.12018593, 1.08945719]),\n",
       "  array([2.25233966, 8.45170172, 1.88723342]),\n",
       "  array([4.78820702, 1.51485071, 9.48018625])])"
      ]
     },
     "execution_count": 5,
     "metadata": {},
     "output_type": "execute_result"
    }
   ],
   "source": [
    "output(system)"
   ]
  },
  {
   "cell_type": "code",
   "execution_count": 6,
   "metadata": {},
   "outputs": [],
   "source": [
    "system=dilute(system)"
   ]
  },
  {
   "cell_type": "code",
   "execution_count": 9,
   "metadata": {},
   "outputs": [
    {
     "data": {
      "text/plain": [
       "[0, 0.7117889553830992, 0.7306793790197895, 0.8173205256702344, 10.0]"
      ]
     },
     "execution_count": 9,
     "metadata": {},
     "output_type": "execute_result"
    }
   ],
   "source": [
    "system_copy = move_to_new(system_copy)\n",
    "system_copy, t_points, c_points, r1_points, r2_points, r3_points = dilute_check(system_copy)\n",
    "t_points"
   ]
  },
  {
   "cell_type": "code",
   "execution_count": 15,
   "metadata": {},
   "outputs": [
    {
     "data": {
      "text/plain": [
       "[0.9990009990009991,\n",
       " 0.7436416832386383,\n",
       " 0.6702943352683852,\n",
       " -3.3306690738754696e-16]"
      ]
     },
     "execution_count": 15,
     "metadata": {},
     "output_type": "execute_result"
    }
   ],
   "source": [
    "r2_points"
   ]
  },
  {
   "cell_type": "code",
   "execution_count": 11,
   "metadata": {},
   "outputs": [
    {
     "data": {
      "text/plain": [
       "[<matplotlib.lines.Line2D at 0x14a4de0da20>]"
      ]
     },
     "execution_count": 11,
     "metadata": {},
     "output_type": "execute_result"
    },
    {
     "data": {
      "image/png": "[encoded data removed]",
      "text/plain": [
       "<Figure size 432x288 with 1 Axes>"
      ]
     },
     "metadata": {},
     "output_type": "display_data"
    }
   ],
   "source": [
    "import matplotlib.pyplot as plt\n",
    "plt.plot(t_points, [math.log(i[0]) for i in c_points])\n",
    "plt.plot(t_points, [math.log(i[1]) for i in c_points])\n",
    "#plt.vlines(1.6871938725761932, -9, 1, linestyles='dashed')\n",
    "#plt.vlines(1.882436214937081, -9, 1, linestyles='dashed')\n",
    "#plt.vlines(2.0794851804427057, -9, 1, linestyles='dashed')\n",
    "plt.plot(t_points, [math.log(i[2]) for i in c_points])\n",
    "#plt.plot(t_points, [math.log(i[3]) for i in c_points])"
   ]
  },
  {
   "cell_type": "code",
   "execution_count": 158,
   "metadata": {},
   "outputs": [],
   "source": [
    "for i in range(37):\n",
    "    system_copy, ext_list = invade(system_copy, i+83)\n",
    "    if output(system_copy) != [14, 18]:\n",
    "        break"
   ]
  },
  {
   "cell_type": "code",
   "execution_count": 141,
   "metadata": {},
   "outputs": [
    {
     "data": {
      "text/plain": [
       "([14, 18, 82],\n",
       " [0.10126282206705466, 1.3784346120183375, 0.020304065916121893],\n",
       " [(0, 1, 2), (0, 1, 2), (2, 0, 1)],\n",
       " [array([3.66532236, 1.20289523, 2.4805498 ]),\n",
       "  array([3.42109008, 3.7775886 , 2.02065415]),\n",
       "  array([2.47431112, 3.08876689, 3.18287377])])"
      ]
     },
     "execution_count": 141,
     "metadata": {},
     "output_type": "execute_result"
    }
   ],
   "source": [
    "system_copy = dilute(system_copy)\n",
    "output(system_copy)"
   ]
  },
  {
   "cell_type": "code",
   "execution_count": 153,
   "metadata": {},
   "outputs": [
    {
     "data": {
      "text/plain": [
       "[14, 18, 82]"
      ]
     },
     "execution_count": 153,
     "metadata": {},
     "output_type": "execute_result"
    }
   ],
   "source": [
    "system_copy, ext_list = invade(system_copy, 82)\n",
    "output(system_copy)[0]"
   ]
  },
  {
   "cell_type": "code",
   "execution_count": 12,
   "metadata": {},
   "outputs": [],
   "source": [
    "for i in range(400):\n",
    "    system_copy = move_to_new(system_copy)\n",
    "    system_copy = dilute(system_copy)\n",
    "#output(system)"
   ]
  },
  {
   "cell_type": "code",
   "execution_count": 13,
   "metadata": {},
   "outputs": [
    {
     "data": {
      "text/plain": [
       "([1, 52, 100],\n",
       " [0.6009482688446953, 0.31227396365603377, 0.5867792675007716],\n",
       " [(0, 1, 2), (1, 0, 2), (2, 1, 0)],\n",
       " [array([9.20247937, 2.12018593, 1.08945719]),\n",
       "  array([2.25233966, 8.45170172, 1.88723342]),\n",
       "  array([4.78820702, 1.51485071, 9.48018625])])"
      ]
     },
     "execution_count": 13,
     "metadata": {},
     "output_type": "execute_result"
    }
   ],
   "source": [
    "output(system_copy)"
   ]
  },
  {
   "cell_type": "code",
   "execution_count": 8,
   "metadata": {},
   "outputs": [],
   "source": [
    "system_copy=copy.deepcopy(system)"
   ]
  },
  {
   "cell_type": "code",
   "execution_count": 155,
   "metadata": {},
   "outputs": [],
   "source": [
    "system_copy = dilute(system_copy)"
   ]
  },
  {
   "cell_type": "code",
   "execution_count": 164,
   "metadata": {},
   "outputs": [
    {
     "data": {
      "text/plain": [
       "array([[1.23322145, 1.08750915, 2.79354773],\n",
       "       [1.71035186, 1.30595521, 1.87276277],\n",
       "       [3.08392623, 2.54891347, 2.8837156 ],\n",
       "       [1.4449088 , 5.73688898, 4.32644953],\n",
       "       [1.67232577, 4.66542005, 1.92361728],\n",
       "       [2.02878988, 1.53232297, 4.27005929],\n",
       "       [2.08170556, 3.13150986, 2.9930211 ],\n",
       "       [2.3689766 , 3.45460108, 4.30973999],\n",
       "       [5.83147358, 3.58749413, 1.4706877 ],\n",
       "       [3.80446575, 5.02633964, 1.97526233],\n",
       "       [2.64504852, 1.49183412, 2.56393551],\n",
       "       [2.50739559, 1.91756216, 4.47415681],\n",
       "       [5.2545394 , 3.08118328, 3.24666214],\n",
       "       [4.17902999, 2.83906652, 3.79009892],\n",
       "       [4.3055179 , 4.25189795, 3.74591067],\n",
       "       [3.94088865, 2.09181784, 2.03755633],\n",
       "       [2.14293976, 3.45342971, 2.80320241],\n",
       "       [2.51865478, 4.08659253, 3.15841768],\n",
       "       [2.63309594, 2.44404379, 6.40021869],\n",
       "       [2.50803152, 1.81164929, 2.685497  ],\n",
       "       [1.05865844, 4.0527091 , 4.7080376 ],\n",
       "       [3.66498215, 4.72059556, 4.12222804],\n",
       "       [3.82054429, 1.83376449, 4.91304293],\n",
       "       [6.96572335, 3.07630483, 4.19131049],\n",
       "       [1.59821074, 3.52710158, 1.77692805],\n",
       "       [5.22806292, 3.05390329, 1.41251513],\n",
       "       [2.50060246, 2.19042278, 2.6628719 ],\n",
       "       [1.49690147, 1.39677244, 2.69843727],\n",
       "       [3.09240651, 3.01211532, 0.98177123],\n",
       "       [1.08519698, 4.67914497, 2.2215029 ],\n",
       "       [2.83971342, 3.30317877, 1.89909208],\n",
       "       [2.77912272, 3.69388584, 2.04092617],\n",
       "       [3.55675155, 2.87586444, 3.44411731],\n",
       "       [4.04882572, 2.53224271, 3.38468358],\n",
       "       [3.07110445, 5.44066246, 2.48309273],\n",
       "       [2.9074857 , 2.34057104, 4.92080734],\n",
       "       [3.11216932, 2.17752232, 5.3542421 ],\n",
       "       [1.75689482, 2.78963472, 1.63277577],\n",
       "       [3.13441306, 4.54224772, 1.25261797],\n",
       "       [5.76175983, 2.03744778, 0.85134191],\n",
       "       [1.79437913, 4.31300987, 3.25137594],\n",
       "       [3.32428068, 1.01194891, 3.29396589],\n",
       "       [2.31394791, 3.20010005, 2.88939017],\n",
       "       [1.96063056, 5.45179529, 1.54783285],\n",
       "       [3.46513016, 2.26390061, 2.16686014],\n",
       "       [5.3104566 , 2.30783181, 4.35488324],\n",
       "       [2.31507373, 5.04654775, 4.62795078],\n",
       "       [4.77673577, 1.92852244, 2.24730166],\n",
       "       [2.37638573, 4.30134182, 3.52831934],\n",
       "       [2.71301918, 5.19251073, 1.28341071],\n",
       "       [2.81215225, 1.33505994, 3.30590895],\n",
       "       [2.96300182, 5.48093046, 3.03392683],\n",
       "       [2.47884672, 1.22093338, 1.4880621 ],\n",
       "       [3.42374523, 2.44343713, 3.32856248],\n",
       "       [1.68742621, 3.06403788, 7.31229619],\n",
       "       [5.03959426, 2.32750443, 3.55431522],\n",
       "       [1.58787852, 1.86220802, 2.8771383 ],\n",
       "       [2.23566156, 1.60716303, 1.89468187],\n",
       "       [1.63893427, 2.52355983, 1.73325883],\n",
       "       [2.48266275, 1.88759731, 4.99913467],\n",
       "       [2.42593336, 3.13147228, 4.45658374],\n",
       "       [1.81631724, 2.6838366 , 1.48634698],\n",
       "       [2.73576648, 2.31545486, 1.36107117],\n",
       "       [3.57932187, 1.77866557, 4.23103765],\n",
       "       [3.1509766 , 2.58912433, 1.8791622 ],\n",
       "       [2.57523205, 3.76749945, 2.20576755],\n",
       "       [1.56349267, 2.50796773, 3.94786124],\n",
       "       [2.26267652, 2.10656714, 3.71569734],\n",
       "       [4.00006228, 2.40497789, 1.35082712],\n",
       "       [2.05461473, 3.01783274, 1.49716509],\n",
       "       [3.83431191, 2.04623292, 3.53778623],\n",
       "       [3.77699227, 2.49656106, 1.82007379],\n",
       "       [2.62650929, 1.58527073, 2.66332651],\n",
       "       [2.22814855, 2.19712853, 3.29882073],\n",
       "       [2.03870324, 2.02464693, 2.53059659],\n",
       "       [1.53856485, 7.13227419, 1.21756955],\n",
       "       [1.94847469, 1.02502507, 8.55534201],\n",
       "       [7.09729497, 2.26698892, 3.78877407],\n",
       "       [1.7863693 , 4.3962766 , 0.96989063],\n",
       "       [1.77913989, 3.04586127, 3.15778159],\n",
       "       [1.27431285, 3.08700599, 2.78666189],\n",
       "       [2.687733  , 6.95299304, 6.13528002],\n",
       "       [1.52523143, 1.18304059, 5.25360653],\n",
       "       [1.98155592, 3.56697016, 1.41040035],\n",
       "       [1.63740164, 5.85571544, 1.6925269 ],\n",
       "       [1.46321637, 3.07374659, 4.35870282],\n",
       "       [2.72395517, 2.5288023 , 3.90959368],\n",
       "       [2.01360432, 2.2396281 , 4.16510353],\n",
       "       [1.96832605, 3.67688612, 2.12210763],\n",
       "       [1.67733456, 3.84504855, 1.87554195],\n",
       "       [2.14584971, 3.16576478, 1.61557025],\n",
       "       [1.68589372, 1.82366313, 6.85700362],\n",
       "       [2.37913834, 2.90368415, 1.71423897],\n",
       "       [2.65682388, 2.48526279, 4.33400457],\n",
       "       [2.79278388, 4.33189468, 2.22952818],\n",
       "       [2.38097748, 2.9280343 , 1.78010241],\n",
       "       [3.35326155, 1.55356212, 2.84019636],\n",
       "       [2.0993015 , 2.53279277, 2.98094016],\n",
       "       [2.66149016, 2.66927746, 1.93765261],\n",
       "       [8.90265767, 2.25943565, 4.3424137 ],\n",
       "       [1.8286173 , 1.38641806, 3.84037114],\n",
       "       [1.82179045, 4.32821375, 1.55137426],\n",
       "       [4.37628338, 1.76700051, 3.47057113],\n",
       "       [2.50814318, 1.9618987 , 3.3567222 ],\n",
       "       [1.67158494, 6.47611625, 1.57679471],\n",
       "       [1.30922363, 1.18356899, 2.85365461],\n",
       "       [3.16711588, 2.84664891, 3.92404896],\n",
       "       [4.72565901, 2.60953171, 2.37353578],\n",
       "       [1.78567191, 5.69826466, 4.56472628],\n",
       "       [3.90010516, 1.60634261, 1.62804823],\n",
       "       [3.33499655, 1.62055976, 2.68823859],\n",
       "       [1.64453345, 2.78637947, 2.0406596 ],\n",
       "       [1.0800633 , 4.9459792 , 1.35019518],\n",
       "       [1.81701665, 3.58703238, 1.54982114],\n",
       "       [1.48470466, 2.45923103, 1.78013047],\n",
       "       [3.14224353, 3.39450795, 4.31035341],\n",
       "       [2.77459715, 3.04872125, 1.63838995],\n",
       "       [2.96321402, 1.9552499 , 1.10355754],\n",
       "       [2.50193567, 2.453141  , 3.08712394],\n",
       "       [2.76942975, 2.31702751, 2.50697102]])"
      ]
     },
     "execution_count": 164,
     "metadata": {},
     "output_type": "execute_result"
    }
   ],
   "source": [
    "growth_rate_list"
   ]
  },
  {
   "cell_type": "code",
   "execution_count": null,
   "metadata": {},
   "outputs": [],
   "source": []
  }
 ],
 "metadata": {
  "kernelspec": {
   "display_name": "Python 3",
   "language": "python",
   "name": "python3"
  },
  "language_info": {
   "codemirror_mode": {
    "name": "ipython",
    "version": 3
   },
   "file_extension": ".py",
   "mimetype": "text/x-python",
   "name": "python",
   "nbconvert_exporter": "python",
   "pygments_lexer": "ipython3",
   "version": "3.6.5"
  }
 },
 "nbformat": 4,
 "nbformat_minor": 2
}
