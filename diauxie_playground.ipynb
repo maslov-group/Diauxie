{
 "cells": [
  {
   "cell_type": "markdown",
   "metadata": {},
   "source": [
    "2 nuts. bug 1: 1, 2. bug 2: 1, 2 or 2, 1. dilution rate D. See for different g where the sum is e.g. 5 what would the mutual invasion be like. might be trivial.."
   ]
  },
  {
   "cell_type": "code",
   "execution_count": 1,
   "metadata": {},
   "outputs": [],
   "source": [
    "import matplotlib.pyplot as plt\n",
    "import numpy as np\n",
    "import math\n",
    "\n",
    "def log(x):\n",
    "    return math.log(x)\n",
    "D = 1000\n",
    "w = [log(D/2)/log(D), log(2)/log(D)]\n",
    "scale = 100\n",
    "budget = 1\n",
    "def coexist1(g1, g2, weight = w):\n",
    "    return (g1[0]/g2[0]*w[0]+g1[1]/g2[1]*w[1]>1 and g2[0]/g1[0]*w[0]+g2[1]/g1[1]*w[1]>1)\n",
    "\n",
    "mat1 = np.zeros([scale, scale])\n",
    "for i in range(scale):\n",
    "    for j in range(scale):\n",
    "        mat1[i][j] = coexist1([(i+1)*budget/(scale+1), (scale-i)*budget/(scale+1)], [(j+1)*budget/(scale+1), (scale-j)*budget/(scale+1)])"
   ]
  },
  {
   "cell_type": "code",
   "execution_count": 53,
   "metadata": {},
   "outputs": [
    {
     "data": {
      "text/plain": [
       "0.0"
      ]
     },
     "execution_count": 53,
     "metadata": {},
     "output_type": "execute_result"
    },
    {
     "data": {
      "image/png": "[encoded data removed]",
      "text/plain": [
       "<Figure size 288x288 with 1 Axes>"
      ]
     },
     "metadata": {},
     "output_type": "display_data"
    }
   ],
   "source": [
    "plt.matshow(mat1)\n",
    "\n",
    "plt.hlines(49, 0, 99, color = 'r')\n",
    "plt.vlines(50, 0, 99, color = 'r')\n",
    "mat1[5][5]"
   ]
  },
  {
   "cell_type": "code",
   "execution_count": 50,
   "metadata": {},
   "outputs": [],
   "source": [
    "def coexist2(g1, g2, weight = w):\n",
    "    return (g1[0]/g2[1]*w[0]+g1[0]/g2[0]*w[1]>1 and g2[1]/g1[0]*w[0]+g2[1]/g1[1]*w[1]>1)\n",
    "\n",
    "mat2 = np.zeros([scale, scale])\n",
    "for i in range(scale):\n",
    "    for j in range(scale):\n",
    "        mat2[i][j] = coexist2([(i+1)*budget/(scale+1), (scale-i)*budget/(scale+1)], [(scale-j)*budget/(scale+1),(j+1)*budget/(scale+1)])"
   ]
  },
  {
   "cell_type": "code",
   "execution_count": 24,
   "metadata": {},
   "outputs": [
    {
     "data": {
      "text/plain": [
       "<matplotlib.collections.LineCollection at 0x1fc96416dd8>"
      ]
     },
     "execution_count": 24,
     "metadata": {},
     "output_type": "execute_result"
    },
    {
     "data": {
      "image/png": "[encoded data removed]",
      "text/plain": [
       "<Figure size 288x288 with 1 Axes>"
      ]
     },
     "metadata": {},
     "output_type": "display_data"
    }
   ],
   "source": [
    "plt.matshow(mat2)\n",
    "plt.hlines(49, 0, 99, color = 'r')\n",
    "plt.vlines(50, 0, 99, color = 'r')"
   ]
  },
  {
   "cell_type": "markdown",
   "metadata": {},
   "source": [
    "Tolerable states are more for diff. order when D is larger, vice versa."
   ]
  },
  {
   "cell_type": "code",
   "execution_count": 26,
   "metadata": {},
   "outputs": [
    {
     "name": "stdout",
     "output_type": "stream",
     "text": [
      "1800.0\n",
      "2166.0\n"
     ]
    }
   ],
   "source": [
    "print(sum(sum(mat1)))\n",
    "print(sum(sum(mat2)))"
   ]
  },
  {
   "cell_type": "markdown",
   "metadata": {},
   "source": [
    "Seems like that same preferential order case excludes generalists, but under different order case some can survive."
   ]
  },
  {
   "cell_type": "code",
   "execution_count": 25,
   "metadata": {},
   "outputs": [
    {
     "data": {
      "text/plain": [
       "True"
      ]
     },
     "execution_count": 25,
     "metadata": {},
     "output_type": "execute_result"
    }
   ],
   "source": [
    "coexist2([0.6, 0.4], [0.4, 0.6])"
   ]
  },
  {
   "cell_type": "markdown",
   "metadata": {},
   "source": [
    "now I try to see if we have 2 nuts 2 species, how uninvadable would the system be dependent upon the species preferential order. "
   ]
  },
  {
   "cell_type": "code",
   "execution_count": 88,
   "metadata": {},
   "outputs": [],
   "source": [
    "import numpy as np\n",
    "import math\n",
    "import random\n",
    "import itertools\n",
    "from scipy.optimize import root\n",
    "import copy\n",
    "import time\n",
    "\n",
    "b0 = 1e-5 # density of bug when introduced/initial\n",
    "b_threshold = 1e-5 # extinction density\n",
    "c_threshold = 1e-9 # concentration threshold\n",
    "D = 1e-3\n",
    "tau = 0 # lag\n",
    "T_dilute = 20 # time interval between dilutions\n",
    "\n",
    "def dilute(system, config):\n",
    "    \n",
    "    Nr = config.nr\n",
    "    Nb = config.nb\n",
    "    preference_list = config.prefs\n",
    "    growth_rate_list = config.gs\n",
    "    yields_list = config.ys\n",
    "    \n",
    "    #global t_system\n",
    "    t_points = []\n",
    "    n_points = []\n",
    "    ni = 0\n",
    "    t_switch = 0\n",
    "    while t_switch < T_dilute:\n",
    "        #list of resource in use for each consumer\n",
    "        use = [0 for i in range(Nb)]\n",
    "        # list of consumers for each resource\n",
    "        consumer = [[] for i in range(Nr)]\n",
    "        for i in range(Nb):\n",
    "            # if all are depleted, bug still uses its least preferred nutrient\n",
    "            while system['res_available'][preference_list[i][use[i]]] < 1 and use[i] < Nr - 1:\n",
    "                use[i] = use[i] + 1\n",
    "            if system['bug_available'][i] > 0:\n",
    "                consumer[preference_list[i][use[i]]].append(i)\n",
    "        # find the earliest depleted resource\n",
    "        t_dep = T_dilute - t_switch\n",
    "        for i in range(Nr):\n",
    "            if system['res_available'][i] > 0:\n",
    "                def remain(t):\n",
    "                    # S = c - sum(B0(e^gt-1)/Y)\n",
    "                    return system['res_concentration'][i] - sum([system['bug_density'][j]*(math.exp(t*growth_rate_list[j][i]) - 1)/yields_list[j][i] for j in consumer[i]])\n",
    "                # a little bit tricky here...\n",
    "                t_i = root(remain, T_dilute + 1).x[0]\n",
    "                if t_i < t_dep:\n",
    "                    t_dep = t_i\n",
    "                    ni = i\n",
    "        # update the system according to this t_dep\n",
    "        t_switch = t_switch + t_dep\n",
    "        t_points.append(t_dep)\n",
    "        n_points.append(ni)\n",
    "        temp_bug_density = [i for i in system['bug_density']]\n",
    "        for i in range(Nb):\n",
    "            if system['res_available'][preference_list[i][use[i]]] > 0:\n",
    "                temp_bug_density[i] = system['bug_density'][i]*math.exp(growth_rate_list[i][preference_list[i][use[i]]]*t_dep)\n",
    "        for i in range(Nr):\n",
    "            if system['res_available'][i] > 0:\n",
    "                system['res_concentration'][i] = system['res_concentration'][i] - sum([system['bug_density'][j]*(math.exp(t_dep*growth_rate_list[j][i]) - 1)/yields_list[j][i] for j in consumer[i]])\n",
    "                if system['res_concentration'][i] < c_threshold:\n",
    "                    system['res_available'][i] = 0\n",
    "        for i in range(Nb):\n",
    "            system['bug_density'][i] = temp_bug_density[i]\n",
    "    #print(system)\n",
    "    #system_copy = copy.deepcopy(system)\n",
    "    #t_system.append(system_copy)\n",
    "    #print(\"diluted once\")\n",
    "    n_points = n_points[:-1]\n",
    "    return system, t_points, n_points\n",
    "\n",
    "def move_to_new(system, config):\n",
    "    Nr = config.nr\n",
    "    Nb = config.nb\n",
    "    system['bug_density'] = [(i*D > b_threshold)*i*D for i in system['bug_density']]\n",
    "    system['bug_available'] = [1*(system['bug_density'][i] > b_threshold) for i in range(Nb)]\n",
    "    system['res_concentration'] = [(system['res_concentration'][i]*D + 1.0) / (D + 1) for i in range(Nr)]\n",
    "    system['res_available'] = [1*(system['res_concentration'][i] > c_threshold) for i in range(Nr)]\n",
    "    return system\n",
    "\n",
    "def output(system):\n",
    "    survivors = [i for i, v in enumerate(system['bug_available']) if v != 0]\n",
    "    pref_list = []\n",
    "    concent = []\n",
    "    growth = []\n",
    "    for i in survivors:\n",
    "        pref_list.append(preference_list[i])\n",
    "        concent.append(system['bug_density'][i])\n",
    "        growth.append(growth_rate_list[i])\n",
    "    return survivors, concent, pref_list, growth\n",
    "\n",
    "class config:\n",
    "    def __init__(self, n_bacteria, n_nutrients, preference_list, g_list, Y_list):\n",
    "        self.nb = n_bacteria\n",
    "        self.nr = n_nutrients\n",
    "        self.prefs = preference_list\n",
    "        self.gs = g_list\n",
    "        self.ys = Y_list\n",
    "    def add_nutrient(self, prefs_new, g_new, Y_new):\n",
    "        self.nr = self.nr + 1\n",
    "        for i in range(self.nb):\n",
    "            # prefs_new is the list of how popular this new nutrient is for each bacteria\n",
    "            self.prefs[i].insert(prefs_new[i], self.nr)\n",
    "            self.gs[i].append(g_new[i])\n",
    "            # needs normalization to keep this budget\n",
    "            sumed = sum(self.gs[i])\n",
    "            self.gs[i] = [g/sumed for g in self.gs[i]]\n",
    "            self.ys[i].append(Y_new[i])\n",
    "    def add_bug(self, prefs_new, g_new, Y_new):\n",
    "        self.nb = self.nb + 1\n",
    "        self.prefs.append(prefs_new)\n",
    "        self.gs.apend(g_new)\n",
    "        self.ys.append(Y_new)\n",
    "        \n",
    "def find_balance(config0, b0_list, times = 10):\n",
    "    system = {'res_available': np.ones(config0.nb), 'res_concentration': [1.0 for i in range(config0.nr)], 'bug_available': [1 for i in range(config0.nb)], 'bug_density': b0_list}\n",
    "    for i in range(times):\n",
    "        system, t_points, n_points = dilute(system, config0)\n",
    "        system = move_to_new(system, config0)\n",
    "        #print(times)\n",
    "    return system, t_points, n_points\n",
    "        \n",
    "def invadable(config0, t_points, n_points, prefs_inv, g_inv, D):\n",
    "    prefs_temp = prefs_inv.copy()\n",
    "    growth = 0\n",
    "    for i in range(len(t_points) - 1):\n",
    "        growth = growth + t_points[i]*g_inv[prefs_temp[0]]\n",
    "        #print(prefs_temp[0])\n",
    "        prefs_temp.remove(n_points[i])\n",
    "    # this D is larger than 1\n",
    "    return growth - log(D)"
   ]
  },
  {
   "cell_type": "code",
   "execution_count": 20,
   "metadata": {},
   "outputs": [],
   "source": [
    "config0 = config(2, 2, [[0, 1], [0, 1]], [[0.8, 0.2], [0.3, 0.7]], [[1, 1], [1, 1]])\n",
    "system, tps, nps = find_balance(config0, [0.2, 0.2])"
   ]
  },
  {
   "cell_type": "code",
   "execution_count": 21,
   "metadata": {},
   "outputs": [
    {
     "data": {
      "text/plain": [
       "3.199467830638424"
      ]
     },
     "execution_count": 21,
     "metadata": {},
     "output_type": "execute_result"
    }
   ],
   "source": [
    "invadable(config0, tps, nps, [1, 0], [0.1, 0.9], 1000)"
   ]
  },
  {
   "cell_type": "code",
   "execution_count": 106,
   "metadata": {},
   "outputs": [],
   "source": [
    "scale = 50\n",
    "mat000 = np.zeros([scale, scale])\n",
    "for i in range(scale):\n",
    "    #print(i)\n",
    "    for j in range(scale):\n",
    "        config1 = config(2, 2, [[0, 1], [0, 1]], [[i/scale, 1-i/scale], [j/scale, 1-j/scale]], [[1, 1], [1, 1]])\n",
    "        system, tps, nps = find_balance(config1, [0.2, 0.2])\n",
    "        if(sum(system['bug_available'])==2):\n",
    "            mat000[i][j] += 50\n",
    "            for k in range(scale+1):\n",
    "                if(invadable(config1, tps, nps, [0, 1], [k/scale, 1-k/scale], 1000)>0):\n",
    "                    mat000[i][j]+= 1\n",
    "        #mat00[i][j] = (sum(system['bug_available'])==2)"
   ]
  },
  {
   "cell_type": "code",
   "execution_count": 107,
   "metadata": {
    "scrolled": true
   },
   "outputs": [
    {
     "data": {
      "text/plain": [
       "<matplotlib.image.AxesImage at 0x17e03c40748>"
      ]
     },
     "execution_count": 107,
     "metadata": {},
     "output_type": "execute_result"
    },
    {
     "data": {
      "image/png": "[encoded data removed]",
      "text/plain": [
       "<Figure size 288x288 with 1 Axes>"
      ]
     },
     "metadata": {},
     "output_type": "display_data"
    }
   ],
   "source": [
    "plt.matshow(mat000)"
   ]
  },
  {
   "cell_type": "code",
   "execution_count": 108,
   "metadata": {},
   "outputs": [],
   "source": [
    "scale = 50\n",
    "mat001 = np.zeros([scale, scale])\n",
    "for i in range(scale):\n",
    "    #print(i)\n",
    "    for j in range(scale):\n",
    "        config1 = config(2, 2, [[0, 1], [0, 1]], [[i/scale, 1-i/scale], [j/scale, 1-j/scale]], [[1, 1], [1, 1]])\n",
    "        system, tps, nps = find_balance(config1, [0.2, 0.2])\n",
    "        if(sum(system['bug_available'])==2):\n",
    "            mat001[i][j] += 50\n",
    "            for k in range(scale+1):\n",
    "                if(invadable(config1, tps, nps, [1, 0], [k/scale, 1-k/scale], 1000)>0):\n",
    "                    mat001[i][j]+= 1\n",
    "        #mat00[i][j] = (sum(system['bug_available'])==2)"
   ]
  },
  {
   "cell_type": "code",
   "execution_count": 109,
   "metadata": {},
   "outputs": [
    {
     "data": {
      "text/plain": [
       "<matplotlib.image.AxesImage at 0x17e039f5080>"
      ]
     },
     "execution_count": 109,
     "metadata": {},
     "output_type": "execute_result"
    },
    {
     "data": {
      "image/png": "[encoded data removed]",
      "text/plain": [
       "<Figure size 288x288 with 1 Axes>"
      ]
     },
     "metadata": {},
     "output_type": "display_data"
    }
   ],
   "source": [
    "plt.matshow(mat001)"
   ]
  },
  {
   "cell_type": "code",
   "execution_count": 113,
   "metadata": {},
   "outputs": [
    {
     "data": {
      "text/plain": [
       "45729.0"
      ]
     },
     "execution_count": 113,
     "metadata": {},
     "output_type": "execute_result"
    }
   ],
   "source": [
    "sum(sum(mat000))"
   ]
  },
  {
   "cell_type": "code",
   "execution_count": 133,
   "metadata": {},
   "outputs": [],
   "source": [
    "config0 = config(2, 2, [[0, 1], [1, 0]], [[0.8, 0.2], [0.2, 0.8]], [[1, 1], [1, 1]])\n",
    "system, tps, nps = find_balance(config0, [0.2, 0.2])"
   ]
  },
  {
   "cell_type": "code",
   "execution_count": 134,
   "metadata": {},
   "outputs": [
    {
     "data": {
      "text/plain": [
       "{'res_available': [1, 1],\n",
       " 'res_concentration': [0.9990009990009991, 0.9990009990009991],\n",
       " 'bug_available': [1, 1],\n",
       " 'bug_density': [0.0010000010000009991, 0.0010000010000009991]}"
      ]
     },
     "execution_count": 134,
     "metadata": {},
     "output_type": "execute_result"
    }
   ],
   "source": [
    "system"
   ]
  },
  {
   "cell_type": "code",
   "execution_count": 129,
   "metadata": {},
   "outputs": [
    {
     "data": {
      "text/plain": [
       "-0.15326375802285153"
      ]
     },
     "execution_count": 129,
     "metadata": {},
     "output_type": "execute_result"
    }
   ],
   "source": [
    "invadable(config0, tps, nps, [1, 0], [0.01, 0.99], 1000)"
   ]
  },
  {
   "cell_type": "code",
   "execution_count": 104,
   "metadata": {},
   "outputs": [],
   "source": [
    "scale = 50\n",
    "mat010 = np.zeros([scale, scale])\n",
    "for i in range(scale):\n",
    "    #print(i)\n",
    "    for j in range(scale):\n",
    "        config1 = config(2, 2, [[0, 1], [1, 0]], [[i/scale, 1-i/scale], [j/scale, 1-j/scale]], [[1, 1], [1, 1]])\n",
    "        system, tps, nps = find_balance(config1, [0.2, 0.2])\n",
    "        if(sum(system['bug_available'])==2):\n",
    "            mat010[i][j] += 50\n",
    "            for k in range(scale+1):\n",
    "                if(invadable(config1, tps, nps, [0, 1], [k/scale, 1-k/scale], 1000)>0):\n",
    "                    mat010[i][j]+= 1\n",
    "        #mat00[i][j] = (sum(system['bug_available'])==2)"
   ]
  },
  {
   "cell_type": "code",
   "execution_count": 105,
   "metadata": {},
   "outputs": [
    {
     "data": {
      "text/plain": [
       "<matplotlib.image.AxesImage at 0x17e03beba90>"
      ]
     },
     "execution_count": 105,
     "metadata": {},
     "output_type": "execute_result"
    },
    {
     "data": {
      "image/png": "[encoded data removed]",
      "text/plain": [
       "<Figure size 288x288 with 1 Axes>"
      ]
     },
     "metadata": {},
     "output_type": "display_data"
    }
   ],
   "source": [
    "plt.matshow(mat010)"
   ]
  },
  {
   "cell_type": "code",
   "execution_count": 115,
   "metadata": {},
   "outputs": [
    {
     "data": {
      "text/plain": [
       "40707.0"
      ]
     },
     "execution_count": 115,
     "metadata": {},
     "output_type": "execute_result"
    }
   ],
   "source": [
    "sum(sum(mat011))"
   ]
  },
  {
   "cell_type": "code",
   "execution_count": 110,
   "metadata": {},
   "outputs": [],
   "source": [
    "scale = 50\n",
    "mat011 = np.zeros([scale, scale])\n",
    "for i in range(scale):\n",
    "    #print(i)\n",
    "    for j in range(scale):\n",
    "        config1 = config(2, 2, [[0, 1], [1, 0]], [[i/scale, 1-i/scale], [j/scale, 1-j/scale]], [[1, 1], [1, 1]])\n",
    "        system, tps, nps = find_balance(config1, [0.2, 0.2])\n",
    "        if(sum(system['bug_available'])==2):\n",
    "            mat011[i][j] += 50\n",
    "            for k in range(scale):\n",
    "                if(invadable(config1, tps, nps, [1, 0], [k/scale, 1-k/scale], 1000)>0):\n",
    "                    mat011[i][j]+= 1\n",
    "        #mat00[i][j] = (sum(system['bug_available'])==2)"
   ]
  },
  {
   "cell_type": "code",
   "execution_count": 111,
   "metadata": {},
   "outputs": [
    {
     "data": {
      "text/plain": [
       "<matplotlib.image.AxesImage at 0x17e03c87588>"
      ]
     },
     "execution_count": 111,
     "metadata": {},
     "output_type": "execute_result"
    },
    {
     "data": {
      "image/png": "[encoded data removed]",
      "text/plain": [
       "<Figure size 288x288 with 1 Axes>"
      ]
     },
     "metadata": {},
     "output_type": "display_data"
    }
   ],
   "source": [
    "plt.matshow(mat011)"
   ]
  },
  {
   "cell_type": "code",
   "execution_count": 132,
   "metadata": {},
   "outputs": [
    {
     "data": {
      "text/plain": [
       "array([50., 50.,  0.,  0.,  0.,  0.,  0.,  0.,  0.,  0.,  0.,  0.,  0.,\n",
       "        0.,  0.,  0.,  0.,  0.,  0.,  0.,  0.,  0.,  0.,  0.,  0.,  0.,\n",
       "        0.,  0.,  0.,  0.,  0.,  0.,  0.,  0., 50.,  0.,  0.,  0.,  0.,\n",
       "        0.,  0.,  0.,  0.,  0.,  0.,  0.,  0.,  0.,  0.,  0.])"
      ]
     },
     "execution_count": 132,
     "metadata": {},
     "output_type": "execute_result"
    }
   ],
   "source": [
    "mat011[16]"
   ]
  },
  {
   "cell_type": "code",
   "execution_count": 8,
   "metadata": {},
   "outputs": [
    {
     "data": {
      "text/plain": [
       "([<matplotlib.axis.XTick at 0x2bd8ba66278>,\n",
       "  <matplotlib.axis.XTick at 0x2bd8b9ceb38>],\n",
       " <a list of 2 Text xticklabel objects>)"
      ]
     },
     "execution_count": 8,
     "metadata": {},
     "output_type": "execute_result"
    }
   ],
   "source": [
    "import matplotlib.pyplot as plt\n",
    "import numpy as np\n",
    "a = [[0, 1], [0, 1]]\n",
    "plt.matshow(a)\n",
    "plt.xlabel('x')\n",
    "plt.xticks(np.arange(0, 10, 5))"
   ]
  },
  {
   "cell_type": "code",
   "execution_count": 12,
   "metadata": {},
   "outputs": [],
   "source": [
    "%store -r allGR\n",
    "%store -r allNE"
   ]
  },
  {
   "cell_type": "code",
   "execution_count": 13,
   "metadata": {},
   "outputs": [],
   "source": [
    "NE_exist = []\n",
    "for elem in allNE:\n",
    "    NE_exist.append(sum([i!=[] for i in elem]))"
   ]
  },
  {
   "cell_type": "code",
   "execution_count": null,
   "metadata": {},
   "outputs": [],
   "source": []
  },
  {
   "cell_type": "code",
   "execution_count": 14,
   "metadata": {},
   "outputs": [
    {
     "data": {
      "text/plain": [
       "Text(0,0.5,'# of times that gives at least 1 NE')"
      ]
     },
     "execution_count": 14,
     "metadata": {},
     "output_type": "execute_result"
    },
    {
     "data": {
      "image/png": "[encoded data removed]",
      "text/plain": [
       "<Figure size 432x288 with 1 Axes>"
      ]
     },
     "metadata": {},
     "output_type": "display_data"
    }
   ],
   "source": [
    "plt.plot([i*0.3 for i in range(10)], NE_exist)\n",
    "plt.xlabel('k')\n",
    "plt.ylabel('# of times that gives at least 1 NE')"
   ]
  },
  {
   "cell_type": "code",
   "execution_count": 15,
   "metadata": {},
   "outputs": [],
   "source": [
    "NE_expect = []\n",
    "for elem in allNE:\n",
    "    NE_expect.append(sum([len(i) for i in elem]))"
   ]
  },
  {
   "cell_type": "code",
   "execution_count": 16,
   "metadata": {},
   "outputs": [
    {
     "data": {
      "text/plain": [
       "Text(0,0.5,'avr number of NE')"
      ]
     },
     "execution_count": 16,
     "metadata": {},
     "output_type": "execute_result"
    },
    {
     "data": {
      "image/png": "[encoded data removed]",
      "text/plain": [
       "<Figure size 432x288 with 1 Axes>"
      ]
     },
     "metadata": {},
     "output_type": "display_data"
    }
   ],
   "source": [
    "plt.plot([i*0.3 for i in range(10)], NE_expect)\n",
    "plt.xlabel('k')\n",
    "plt.ylabel('avr number of NE')"
   ]
  },
  {
   "cell_type": "code",
   "execution_count": 3,
   "metadata": {},
   "outputs": [
    {
     "ename": "NameError",
     "evalue": "name 'allNE' is not defined",
     "output_type": "error",
     "traceback": [
      "\u001b[1;31m---------------------------------------------------------------------------\u001b[0m",
      "\u001b[1;31mNameError\u001b[0m                                 Traceback (most recent call last)",
      "\u001b[1;32m<ipython-input-3-ab1406a11552>\u001b[0m in \u001b[0;36m<module>\u001b[1;34m()\u001b[0m\n\u001b[1;32m----> 1\u001b[1;33m \u001b[0mallNE\u001b[0m\u001b[1;33m\u001b[0m\u001b[0m\n\u001b[0m",
      "\u001b[1;31mNameError\u001b[0m: name 'allNE' is not defined"
     ]
    }
   ],
   "source": [
    "allNE"
   ]
  },
  {
   "cell_type": "code",
   "execution_count": 4,
   "metadata": {},
   "outputs": [
    {
     "ename": "NameError",
     "evalue": "name 'allGR' is not defined",
     "output_type": "error",
     "traceback": [
      "\u001b[1;31m---------------------------------------------------------------------------\u001b[0m",
      "\u001b[1;31mNameError\u001b[0m                                 Traceback (most recent call last)",
      "\u001b[1;32m<ipython-input-4-4a7189de8687>\u001b[0m in \u001b[0;36m<module>\u001b[1;34m()\u001b[0m\n\u001b[1;32m----> 1\u001b[1;33m \u001b[0mallGR\u001b[0m\u001b[1;33m\u001b[0m\u001b[0m\n\u001b[0m",
      "\u001b[1;31mNameError\u001b[0m: name 'allGR' is not defined"
     ]
    }
   ],
   "source": [
    "allGR"
   ]
  },
  {
   "cell_type": "code",
   "execution_count": 19,
   "metadata": {},
   "outputs": [
    {
     "data": {
      "image/png": "[encoded data removed]",
      "text/plain": [
       "<Figure size 432x288 with 10 Axes>"
      ]
     },
     "metadata": {},
     "output_type": "display_data"
    }
   ],
   "source": [
    "import math\n",
    "from matplotlib.patches import Circle\n",
    "def plot_triangle(A, B, C):\n",
    "    x = [A[0], B[0], C[0], A[0]]\n",
    "    y = [A[1], B[1], C[1], A[1]]\n",
    "    ax = plt.gca()\n",
    "    ax.plot(x, y, linewidth=2)\n",
    "\n",
    "def draw_circle(x, y, r, c):\n",
    "    ax = plt.gca()\n",
    "    cir = Circle(xy=(x, y), radius=r, alpha=0.5, color = c)\n",
    "    ax.add_patch(cir)\n",
    "    ax.plot()\n",
    "    \n",
    "def project(data):\n",
    "    draw_circle((data[0][1]-data[0][0])/math.sqrt(2)/sum(data[0]), data[0][2]*math.sqrt(6)/2/sum(data[0]), 0.02, 'r')\n",
    "    draw_circle((data[1][1]-data[1][0])/math.sqrt(2)/sum(data[1]), data[1][2]*math.sqrt(6)/2/sum(data[1]), 0.02, 'g')\n",
    "    draw_circle((data[2][1]-data[2][0])/math.sqrt(2)/sum(data[2]), data[2][2]*math.sqrt(6)/2/sum(data[2]), 0.02, 'b')\n",
    "\n",
    "\n",
    "\n",
    "for idx, GRlist in enumerate(allGR):\n",
    "    #print(idx)\n",
    "    plt.subplot('25'+str((idx+1)%10))\n",
    "    plt.axis('equal')\n",
    "    plot_triangle([-math.sqrt(2)/2, 0], [math.sqrt(2)/2, 0], [0, math.sqrt(6)/2])\n",
    "    for GR in GRlist:\n",
    "        project(GR)\n",
    "\n",
    "        "
   ]
  },
  {
   "cell_type": "code",
   "execution_count": 2,
   "metadata": {},
   "outputs": [
    {
     "data": {
      "text/plain": [
       "3"
      ]
     },
     "execution_count": 2,
     "metadata": {},
     "output_type": "execute_result"
    }
   ],
   "source": [
    "a = [1, 2, 3]\n",
    "a[-1]"
   ]
  },
  {
   "cell_type": "code",
   "execution_count": null,
   "metadata": {},
   "outputs": [],
   "source": []
  }
 ],
 "metadata": {
  "kernelspec": {
   "display_name": "Python 3",
   "language": "python",
   "name": "python3"
  },
  "language_info": {
   "codemirror_mode": {
    "name": "ipython",
    "version": 3
   },
   "file_extension": ".py",
   "mimetype": "text/x-python",
   "name": "python",
   "nbconvert_exporter": "python",
   "pygments_lexer": "ipython3",
   "version": "3.6.5"
  }
 },
 "nbformat": 4,
 "nbformat_minor": 2
}
