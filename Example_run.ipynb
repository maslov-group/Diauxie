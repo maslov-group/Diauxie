{
 "cells": [
  {
   "cell_type": "markdown",
   "metadata": {},
   "source": [
    "This notebook is an example of a single run of simulation. It generates a species pool of size 24, contains species with different growth rates and diauxic preference orders. These species invade one by one in a system under serial dilution, and the community is assembled in this process. \n",
    "\n",
    "See the paper for more details. "
   ]
  },
  {
   "cell_type": "code",
   "execution_count": 1,
   "metadata": {},
   "outputs": [],
   "source": [
    "exec(open(\"ModulesWithLags.py\", encoding = 'utf-8').read())"
   ]
  },
  {
   "cell_type": "code",
   "execution_count": 2,
   "metadata": {},
   "outputs": [
    {
     "name": "stdout",
     "output_type": "stream",
     "text": [
      "survivors are:[2, 11, 18]\n",
      "Their abundances:[0.010001000100011138, 0.004428754041211744, 0.00557224605879826]\n",
      "Their preference orders:[(0, 2, 1, 3), (1, 3, 2, 0), (3, 0, 1, 2)]\n"
     ]
    }
   ],
   "source": [
    "Nr = 4\n",
    "theta = 1e-1 # hard minimum of growth rates\n",
    "g_mu  = 0.25\n",
    "g_sigma= 0.05\n",
    "Size = 1\n",
    "lagTime = 1\n",
    "# dynamic parameters\n",
    "D = 0.01 # (inverse) dilution factor\n",
    "T_dilute = 24 # time interval between dilutions\n",
    "dilute_to_steady = 10 # #(dilution) between invasions\n",
    "b0 = 1e-6 # density of bug when introduced/initial\n",
    "b_threshold = 1e-6 # extinction density\n",
    "c_threshold = 1e-9 # concentration threshold\n",
    "\n",
    "Nb = factorial(Nr)*Size\n",
    "yields_list = 0.5*np.ones([Nb, Nr])\n",
    "growth_rate_list  = []\n",
    "for i in range(Nb):\n",
    "    growth_rate_list.append([max(np.random.normal(g_mu, g_sigma), theta) for i in range(Nr)])\n",
    "invlist = list(range(Nb))\n",
    "random.shuffle(invlist)\n",
    "details = {'res_begin':[], 't_info':[], 'res_left':[], 'bug_info':[], 'round_idx':[0]}\n",
    "Res = [1.0 for i in range(Nr)]\n",
    "preference_list = list(itertools.permutations(range(Nr), Nr))\n",
    "start=time.time()\n",
    "movestep=0\n",
    "details = {'res_begin':[], 't_info':[], 'res_left':[], 'bug_info':[], 'round_idx':[0]}\n",
    "system = {'res_available': np.heaviside(Res, 0), 'res_concentration': [i for i in Res], 'bug_available': [0 for i in range(Nb)], 'bug_density': [0 for i in range(Nb)]}\n",
    "old_ext_list = invlist\n",
    "system, new_ext_list = round_robin_invade(system, old_ext_list, growth_rate_list, lagTime)\n",
    "new_ext_list = [i for i in invlist if i in new_ext_list]\n",
    "count = 0\n",
    "cycled = False\n",
    "while new_ext_list != old_ext_list and count < 10:\n",
    "    old_ext_list = new_ext_list\n",
    "    survivors, concent, pref_list, growth = output(system)\n",
    "    system, new_ext_list = round_robin_invade(system, old_ext_list, growth_rate_list, lagTime)\n",
    "    count = count + 1\n",
    "    if count > 10:\n",
    "        cycled = True\n",
    "        print('A cycle might have occured')\n",
    "details['round_idx'] = details['round_idx'][1:]\n",
    "end = time.time()\n",
    "print('survivors are:' + str(output(system)[0]))\n",
    "print('Their abundances:' + str(output(system)[1]))\n",
    "print('Their preference orders:'+ str(output(system)[2]))\n",
    "#print(end-start)"
   ]
  },
  {
   "cell_type": "code",
   "execution_count": null,
   "metadata": {},
   "outputs": [],
   "source": []
  }
 ],
 "metadata": {
  "kernelspec": {
   "display_name": "Python 3",
   "language": "python",
   "name": "python3"
  },
  "language_info": {
   "codemirror_mode": {
    "name": "ipython",
    "version": 3
   },
   "file_extension": ".py",
   "mimetype": "text/x-python",
   "name": "python",
   "nbconvert_exporter": "python",
   "pygments_lexer": "ipython3",
   "version": "3.8.3"
  }
 },
 "nbformat": 4,
 "nbformat_minor": 4
}
