{
 "cells": [
  {
   "cell_type": "markdown",
   "metadata": {},
   "source": [
    "This is to find the nash equilibrium of pure strategies of n species and n resources. Each species has their metabolic pathways fixed and can switch among these pathways. Thus, the growth rate is first generated and the preference order can be changed. The gain of each strategy is determined by the net abundance of the species."
   ]
  },
  {
   "cell_type": "code",
   "execution_count": 13,
   "metadata": {},
   "outputs": [],
   "source": [
    "# initialization\n",
    "\n",
    "import numpy as np\n",
    "import math\n",
    "import random\n",
    "import itertools\n",
    "from scipy.optimize import root\n",
    "import copy\n",
    "import time\n",
    "# set resource number and amount\n",
    "Nr = 2\n",
    "\n",
    "# generate species pool: growth rate from gaussian; preference list; invasion order\n",
    "# growth rates\n",
    "Res = [1.0, 1.0]\n",
    "Nb = Nr\n",
    "Nl = math.factorial(Nr)\n",
    "g_mean, g_var = 1, 0.2\n",
    "# budget 8\n",
    "growth_rate_list = np.exp(np.random.normal(g_mean, math.sqrt(g_var), (Nb, Nr)))\n",
    "filt = np.heaviside(growth_rate_list, 0)\n",
    "growth_rate_list = filt*growth_rate_list\n",
    "budget = 8\n",
    "growth_rate_list = budget*growth_rate_list / np.sum(growth_rate_list, axis=1)[:, None]\n",
    "#preference list\n",
    "preference_list = list(itertools.permutations(range(Nr), Nr))\n",
    "b0 = 1e-3 # density of bug when introduced/initial\n",
    "b_threshold = 1e-6 # extinction density\n",
    "c_threshold = 1e-9 # concentration threshold\n",
    "# yields\n",
    "yields_list = 0.5*np.ones([Nb, Nr]) # might need to be modified later?\n",
    "\n",
    "# dilution parameters \n",
    "D = 1e-3\n",
    "tau = 0 # lag\n",
    "T_dilute = 10 # time interval between dilutions\n",
    "dilute_to_steady = 10 # #(dilution) between invasions"
   ]
  },
  {
   "cell_type": "code",
   "execution_count": 14,
   "metadata": {},
   "outputs": [],
   "source": [
    "def dilute(system, s1, s2): \n",
    "    pref_list = [preference_list[s1], preference_list[s2]]\n",
    "    t_switch = 0\n",
    "    while t_switch < T_dilute:\n",
    "        #list of resource in use for each consumer\n",
    "        use = [0 for i in range(Nb)]\n",
    "        # list of consumers for each resource\n",
    "        consumer = [[] for i in range(Nr)]\n",
    "        for i in range(Nb):\n",
    "            # if all are depleted, bug still uses its least preferred nutrient\n",
    "            while system['res_available'][pref_list[i][use[i]]] < 1 and use[i] < Nr - 1:\n",
    "                use[i] = use[i] + 1\n",
    "            if system['bug_available'][i] > 0:\n",
    "                consumer[pref_list[i][use[i]]].append(i)\n",
    "        # find the earliest depleted resource\n",
    "        t_dep = T_dilute - t_switch\n",
    "        for i in range(Nr):\n",
    "            if system['res_available'][i] > 0:\n",
    "                def remain(t):  \n",
    "                    # S = c - sum(B0(e^gt-1)/Y)                \n",
    "                    return system['res_concentration'][i] - sum([system['bug_density'][j]*(math.exp(t*growth_rate_list[j][i]) - 1)/yields_list[j][i] for j in consumer[i]])\n",
    "                    #print(consumer[0])\n",
    "                # a little bit tricky here...\n",
    "                t_i = root(remain, T_dilute + 1).x[0]\n",
    "                if t_i < t_dep:\n",
    "                    t_dep = t_i\n",
    "        # update the system according to this t_dep\n",
    "        t_switch = t_switch + t_dep\n",
    "        temp_bug_density = [i for i in system['bug_density']]\n",
    "        for i in range(Nb):\n",
    "            if system['res_available'][pref_list[i][use[i]]] > 0:\n",
    "                temp_bug_density[i] = system['bug_density'][i]*math.exp(growth_rate_list[i][pref_list[i][use[i]]]*t_dep)\n",
    "        for i in range(Nr):\n",
    "            if system['res_available'][i] > 0:\n",
    "                system['res_concentration'][i] = system['res_concentration'][i] - sum([system['bug_density'][j]*(math.exp(t_dep*growth_rate_list[j][i]) - 1)/yields_list[j][i] for j in consumer[i]])\n",
    "                if system['res_concentration'][i] < c_threshold: \n",
    "                    system['res_available'][i] = 0\n",
    "        for i in range(Nb):\n",
    "            system['bug_density'][i] = temp_bug_density[i]\n",
    "    #print(system)\n",
    "    #print(\"diluted once\")\n",
    "    return system\n",
    "        \n",
    "def move_to_new(system):\n",
    "    system['bug_density'] = [(i*D > b_threshold)*i*D for i in system['bug_density']]\n",
    "    system['bug_available'] = [1*(system['bug_density'][i] > b_threshold) for i in range(Nb)]\n",
    "    system['res_concentration'] = [(system['res_concentration'][i]*D + Res[i]) / (D + 1) for i in range(Nr)]\n",
    "    system['res_available'] = [1*(system['res_concentration'][i] > c_threshold) for i in range(Nr)]\n",
    "    return system\n",
    "\n",
    "def isNE(s1, s2, pay1, pay2):\n",
    "    for i in range(Nl):\n",
    "        if pay1[i, s2] > pay1[s1, s2]: return False\n",
    "    for j in range(Nl):\n",
    "        if pay2[s1, j] > pay2[s1, s2]: return False\n",
    "    return True"
   ]
  },
  {
   "cell_type": "code",
   "execution_count": 8,
   "metadata": {},
   "outputs": [],
   "source": [
    "# generate the matrices\n",
    "\n",
    "pay1 = np.zeros([2, 2])\n",
    "pay2 = np.zeros([2, 2])\n",
    "for s1 in range(Nl):\n",
    "    for s2 in range(Nl):\n",
    "        system = {'res_available': [1, 1], 'res_concentration': [1.0, 1.0], 'bug_available': [1, 1], 'bug_density': [b0, 0.1*b0]}\n",
    "        for i in range(dilute_to_steady):\n",
    "            system = dilute(system, s1, s2)\n",
    "            system = move_to_new(system)\n",
    "        system = dilute(system, s1, s2)\n",
    "        pay1[s1, s2] = system['bug_density'][0]\n",
    "        pay2[s1, s2] = system['bug_density'][1]\n",
    "\n",
    "# find NE\n",
    "NE = []\n",
    "for s1 in range(Nl):\n",
    "    for s2 in range(Nl):             \n",
    "        if isNE(s1, s2, pay1, pay2) == True:\n",
    "            NE.append([s1, s2])"
   ]
  },
  {
   "cell_type": "code",
   "execution_count": 9,
   "metadata": {},
   "outputs": [
    {
     "data": {
      "text/plain": [
       "{'res_available': [0, 0],\n",
       " 'res_concentration': [-2.220446049250313e-16, 4.440892098500626e-16],\n",
       " 'bug_available': [1, 1],\n",
       " 'bug_density': [0.7044686789750797, 0.2975313210249202]}"
      ]
     },
     "execution_count": 9,
     "metadata": {},
     "output_type": "execute_result"
    }
   ],
   "source": [
    "system = {'res_available': [1, 1], 'res_concentration': [1.0, 1.0], 'bug_available': [1, 1], 'bug_density': [b0, b0]}\n",
    "system = dilute(system, 1, 1)\n",
    "system"
   ]
  },
  {
   "cell_type": "code",
   "execution_count": 149,
   "metadata": {},
   "outputs": [
    {
     "data": {
      "text/plain": [
       "array([[3.70826584, 4.29173416],\n",
       "       [2.03678252, 5.96321748]])"
      ]
     },
     "execution_count": 149,
     "metadata": {},
     "output_type": "execute_result"
    }
   ],
   "source": [
    "growth_rate_list"
   ]
  },
  {
   "cell_type": "code",
   "execution_count": 170,
   "metadata": {},
   "outputs": [
    {
     "data": {
      "text/plain": [
       "[[1, 0]]"
      ]
     },
     "execution_count": 170,
     "metadata": {},
     "output_type": "execute_result"
    }
   ],
   "source": [
    "NE"
   ]
  },
  {
   "cell_type": "code",
   "execution_count": 151,
   "metadata": {},
   "outputs": [
    {
     "data": {
      "text/plain": [
       "array([[1.000001, 0.      ],\n",
       "       [1.000001, 0.      ]])"
      ]
     },
     "execution_count": 151,
     "metadata": {},
     "output_type": "execute_result"
    }
   ],
   "source": [
    "pay1"
   ]
  },
  {
   "cell_type": "code",
   "execution_count": 152,
   "metadata": {},
   "outputs": [
    {
     "data": {
      "text/plain": [
       "array([[0.      , 1.000001],\n",
       "       [0.      , 1.000001]])"
      ]
     },
     "execution_count": 152,
     "metadata": {},
     "output_type": "execute_result"
    }
   ],
   "source": [
    "pay2"
   ]
  },
  {
   "cell_type": "markdown",
   "metadata": {},
   "source": [
    "The above is the case for 2 species. Now try 3 species and 3 resources. "
   ]
  },
  {
   "cell_type": "code",
   "execution_count": 11,
   "metadata": {},
   "outputs": [],
   "source": [
    "# initialization\n",
    "\n",
    "import numpy as np\n",
    "import math\n",
    "import random\n",
    "import itertools\n",
    "from scipy.optimize import root, fsolve\n",
    "import copy\n",
    "import time\n",
    "\n",
    "Res = [1.0, 1.0, 1.0]\n",
    "Nr = 3\n",
    "Nb = Nr\n",
    "Nl = math.factorial(Nr)\n",
    "g_mean, g_var = 1, 0.4\n",
    "# budget 8\n",
    "growth_rate_list = np.exp(np.random.normal(g_mean, math.sqrt(g_var), (Nb, Nr)))\n",
    "filt = np.heaviside(growth_rate_list, 0)\n",
    "growth_rate_list = filt*growth_rate_list\n",
    "budget = 6\n",
    "growth_rate_list = budget*growth_rate_list / np.sum(growth_rate_list, axis=1)[:, None]\n",
    "#preference list\n",
    "preference_list = list(itertools.permutations(range(Nr), Nr))\n",
    "b0 = 1e-3 # density of bug when introduced/initial\n",
    "b_threshold = 1e-6 # extinction density\n",
    "c_threshold = 1e-9 # concentration threshold\n",
    "# yields\n",
    "yields_list = 0.5*np.ones([Nb, Nr]) # might need to be modified later?\n",
    "\n",
    "# dilution parameters \n",
    "D = 1e-3\n",
    "tau = 0 # lag\n",
    "T_dilute = 10 # time interval between dilutions\n",
    "dilute_to_steady = 15 # #(dilution) between invasions"
   ]
  },
  {
   "cell_type": "code",
   "execution_count": 12,
   "metadata": {},
   "outputs": [],
   "source": [
    "def dilute(system, s1, s2, s3): \n",
    "    pref_list = [preference_list[s1], preference_list[s2], preference_list[s3]]\n",
    "    t_switch = 0\n",
    "    while t_switch < T_dilute:\n",
    "        #list of resource in use for each consumer\n",
    "        use = [0 for i in range(Nb)]\n",
    "        # list of consumers for each resource\n",
    "        consumer = [[] for i in range(Nr)]\n",
    "        for i in range(Nb):\n",
    "            # if all are depleted, bug still uses its least preferred nutrient\n",
    "            while system['res_available'][pref_list[i][use[i]]] < 1 and use[i] < Nr - 1:\n",
    "                use[i] = use[i] + 1\n",
    "            if system['bug_available'][i] > 0:\n",
    "                consumer[pref_list[i][use[i]]].append(i)\n",
    "        # find the earliest depleted resource\n",
    "        t_dep = T_dilute - t_switch\n",
    "        for i in range(Nr):\n",
    "            if system['res_available'][i] > 0:\n",
    "                def remain(t):  \n",
    "                    # S = c - sum(B0(e^gt-1)/Y)   \n",
    "                    return system['res_concentration'][i] - sum([system['bug_density'][j]*(math.exp(t*growth_rate_list[j][i]) - 1)/yields_list[j][i] for j in consumer[i]])\n",
    "                # a little bit tricky here...\n",
    "                t_i = root(remain, T_dilute + 1).x[0]\n",
    "                if t_i < t_dep:\n",
    "                    t_dep = t_i\n",
    "        # update the system according to this t_dep\n",
    "        t_switch = t_switch + t_dep\n",
    "        temp_bug_density = [i for i in system['bug_density']]\n",
    "        for i in range(Nb):\n",
    "            if system['res_available'][pref_list[i][use[i]]] > 0:\n",
    "                temp_bug_density[i] = system['bug_density'][i]*math.exp(growth_rate_list[i][pref_list[i][use[i]]]*t_dep)\n",
    "        for i in range(Nr):\n",
    "            if system['res_available'][i] > 0:\n",
    "                system['res_concentration'][i] = system['res_concentration'][i] - sum([system['bug_density'][j]*(math.exp(t_dep*growth_rate_list[j][i]) - 1)/yields_list[j][i] for j in consumer[i]])\n",
    "                #print(system['res_concentration'])\n",
    "                if system['res_concentration'][i] < c_threshold: \n",
    "                    system['res_available'][i] = 0\n",
    "        for i in range(Nb):\n",
    "            system['bug_density'][i] = temp_bug_density[i]\n",
    "    #print(system)\n",
    "    #print(\"diluted once\")\n",
    "    return system\n",
    "        \n",
    "def move_to_new(system):\n",
    "    system['bug_density'] = [(i*D > b_threshold)*i*D for i in system['bug_density']]\n",
    "    system['bug_available'] = [1*(system['bug_density'][i] > b_threshold) for i in range(Nb)]\n",
    "    system['res_concentration'] = [(system['res_concentration'][i]*D + Res[i]) / (D + 1) for i in range(Nr)]\n",
    "    system['res_available'] = [1*(system['res_concentration'][i] > c_threshold) for i in range(Nr)]\n",
    "    return system\n",
    "\n",
    "def isNE(s1, s2, s3, pay1, pay2, pay3):\n",
    "    for i in range(Nl):\n",
    "        if pay1[i, s2, s3] > pay1[s1, s2, s3]: return False\n",
    "    for i in range(Nl):\n",
    "        if pay2[s1, i, s3] > pay2[s1, s2, s3]: return False\n",
    "    for i in range(Nl):\n",
    "        if pay3[s1, s2, i] > pay3[s1, s2, s3]: return False\n",
    "    if pay1[s1, s2, s3]==0 or pay2[s1, s2, s3]==0 or pay3[s1, s2, s3]==0: return False\n",
    "    return True\n",
    "\n",
    "def test(growth_rate_list, system, s1, s2, s3):\n",
    "    for i in range(dilute_to_steady):\n",
    "        system = dilute(system, s1, s2, s3)\n",
    "        system = move_to_new(system)\n",
    "    system = dilute(system, s1, s2, s3)\n",
    "    system['bug_density'] = [((i-0.05)>0)*i for i in system['bug_density']]\n",
    "    system['bug_available'] = [system['bug_available'][i]*(system['bug_density'][i]>0) for i in range(Nb)]\n",
    "    system = move_to_new(system)\n",
    "    system = dilute(system, s1, s2, s3)\n",
    "    return system"
   ]
  },
  {
   "cell_type": "code",
   "execution_count": 114,
   "metadata": {},
   "outputs": [
    {
     "name": "stdout",
     "output_type": "stream",
     "text": [
      "check\n",
      "check\n",
      "check\n",
      "check\n",
      "check\n",
      "check\n",
      "check\n",
      "check\n",
      "check\n",
      "check\n",
      "check\n",
      "check\n",
      "check\n",
      "check\n",
      "check\n",
      "check\n",
      "check\n",
      "check\n",
      "check\n",
      "check\n",
      "check\n",
      "check\n",
      "check\n",
      "check\n",
      "check\n",
      "check\n",
      "check\n",
      "check\n",
      "check\n",
      "check\n",
      "check\n",
      "check\n",
      "check\n",
      "check\n",
      "check\n",
      "check\n",
      "4.300495147705078\n"
     ]
    }
   ],
   "source": [
    "# generate the matrices\n",
    "start = time.time()\n",
    "\n",
    "pay1 = np.zeros((Nl, Nl, Nl))\n",
    "pay2 = np.zeros((Nl, Nl, Nl))\n",
    "pay3 = np.zeros((Nl, Nl, Nl))\n",
    "for s1 in range(Nl):\n",
    "    for s2 in range(Nl):\n",
    "        print('check')\n",
    "        for s3 in range(Nl):\n",
    "            system = {'res_available': [1, 1, 1], 'res_concentration': [1.0, 1.0, 1.0], 'bug_available': [1, 1, 1], 'bug_density': [b0, b0, b0]}\n",
    "            system = test(growth_rate_list, system, s1, s2, s3)\n",
    "            pay1[s1, s2, s3] = system['bug_density'][0]\n",
    "            pay2[s1, s2, s3] = system['bug_density'][1]\n",
    "            pay3[s1, s2, s3] = system['bug_density'][2]\n",
    "\n",
    "# find NE\n",
    "NE = []\n",
    "for s1 in range(Nl):\n",
    "    for s2 in range(Nl):    \n",
    "        for s3 in range(Nl):\n",
    "            if isNE(s1, s2, s3, pay1, pay2, pay3) == True:\n",
    "                NE.append([s1, s2, s3])\n",
    "                \n",
    "end = time.time()\n",
    "print(end-start)"
   ]
  },
  {
   "cell_type": "code",
   "execution_count": 9,
   "metadata": {},
   "outputs": [],
   "source": [
    "growth_rate_list_cop = copy.deepcopy(growth_rate_list)"
   ]
  },
  {
   "cell_type": "code",
   "execution_count": 94,
   "metadata": {},
   "outputs": [
    {
     "data": {
      "text/plain": [
       "{'res_available': [0, 0, 0],\n",
       " 'res_concentration': [1.1102230246251565e-16,\n",
       "  -4.440892098500626e-16,\n",
       "  -5.773159728050814e-15],\n",
       " 'bug_available': [1, 1, 1],\n",
       " 'bug_density': [1.0075286709219569, 0.4845600883575534, 0.007912740721993026]}"
      ]
     },
     "execution_count": 94,
     "metadata": {},
     "output_type": "execute_result"
    }
   ],
   "source": [
    "system = {'res_available': [1, 1, 1], 'res_concentration': [1.0, 1.0, 1.0], 'bug_available': [1, 1, 1], 'bug_density': [b0, b0, b0]}\n",
    "system = test(growth_rate_list, system, 1, 4, 3)\n",
    "system"
   ]
  },
  {
   "cell_type": "code",
   "execution_count": 115,
   "metadata": {},
   "outputs": [
    {
     "data": {
      "text/plain": [
       "[]"
      ]
     },
     "execution_count": 115,
     "metadata": {},
     "output_type": "execute_result"
    }
   ],
   "source": [
    "NE"
   ]
  },
  {
   "cell_type": "code",
   "execution_count": 106,
   "metadata": {},
   "outputs": [
    {
     "data": {
      "text/plain": [
       "{'res_available': [0, 0, 0],\n",
       " 'res_concentration': [-1.3322676295501878e-15,\n",
       "  -3.3306690738754696e-16,\n",
       "  -8.881784197001252e-15],\n",
       " 'bug_available': [1, 1, 0],\n",
       " 'bug_density': [1.0071270912607184, 0.4928744087407871, 0.0]}"
      ]
     },
     "execution_count": 106,
     "metadata": {},
     "output_type": "execute_result"
    }
   ],
   "source": [
    "for i in range(100):\n",
    "    system = move_to_new(system)\n",
    "    system = dilute(system, 1, 4, 3)\n",
    "system"
   ]
  },
  {
   "cell_type": "code",
   "execution_count": 122,
   "metadata": {},
   "outputs": [
    {
     "data": {
      "text/plain": [
       "{'res_available': [1, 1, 1],\n",
       " 'res_concentration': [0.9981952201378186,\n",
       "  0.9990009990015898,\n",
       "  0.9988575397651553],\n",
       " 'bug_available': [0, 1, 0],\n",
       " 'bug_density': [0.0, 0.002684614521340522, 0.0]}"
      ]
     },
     "execution_count": 122,
     "metadata": {},
     "output_type": "execute_result"
    }
   ],
   "source": [
    "system = move_to_new(system)\n",
    "system"
   ]
  },
  {
   "cell_type": "code",
   "execution_count": 163,
   "metadata": {},
   "outputs": [
    {
     "data": {
      "text/plain": [
       "[(0, 1, 2), (0, 2, 1), (1, 0, 2), (1, 2, 0), (2, 0, 1), (2, 1, 0)]"
      ]
     },
     "execution_count": 163,
     "metadata": {},
     "output_type": "execute_result"
    }
   ],
   "source": [
    "preference_list"
   ]
  },
  {
   "cell_type": "code",
   "execution_count": 65,
   "metadata": {},
   "outputs": [
    {
     "data": {
      "text/plain": [
       "array([[3.61981173, 0.553335  , 1.82685327],\n",
       "       [2.72771565, 1.84286648, 1.42941788],\n",
       "       [3.26537186, 2.03510534, 0.6995228 ]])"
      ]
     },
     "execution_count": 65,
     "metadata": {},
     "output_type": "execute_result"
    }
   ],
   "source": [
    "growth_rate_list"
   ]
  },
  {
   "cell_type": "code",
   "execution_count": 92,
   "metadata": {},
   "outputs": [
    {
     "data": {
      "text/plain": [
       "30"
      ]
     },
     "execution_count": 92,
     "metadata": {},
     "output_type": "execute_result"
    }
   ],
   "source": [
    "dilute_to_steady"
   ]
  },
  {
   "cell_type": "markdown",
   "metadata": {},
   "source": [
    "Try to draw a diagram, where I try combinations of growth rates within the budget. First try with 2 nutrients and 2 bugs."
   ]
  },
  {
   "cell_type": "code",
   "execution_count": 1,
   "metadata": {},
   "outputs": [],
   "source": [
    "# initialization\n",
    "\n",
    "import numpy as np\n",
    "import math\n",
    "import random\n",
    "import itertools\n",
    "from scipy.optimize import root\n",
    "import copy\n",
    "import time\n",
    "import matplotlib.pyplot as plt\n",
    "# set resource number and amount\n",
    "Nr = 2\n",
    "\n",
    "# generate species pool: growth rate from gaussian; preference list; invasion order\n",
    "# growth rates\n",
    "Res = [1.0, 1.0]\n",
    "Nb = Nr\n",
    "Nl = math.factorial(Nr)\n",
    "\n",
    "#preference list\n",
    "preference_list = list(itertools.permutations(range(Nr), Nr))\n",
    "b0 = 1e-3 # density of bug when introduced/initial\n",
    "b_threshold = 1e-6 # extinction density\n",
    "c_threshold = 1e-9 # concentration threshold\n",
    "# yields\n",
    "yields_list = 0.5*np.ones([Nb, Nr]) # might need to be modified later?\n",
    "\n",
    "# dilution parameters \n",
    "D = 1e-3\n",
    "tau = 0 # lag\n",
    "T_dilute = 10 # time interval between dilutions\n",
    "dilute_to_steady = 10 # #(dilution) between invasions"
   ]
  },
  {
   "cell_type": "code",
   "execution_count": 32,
   "metadata": {},
   "outputs": [],
   "source": [
    "def dilute(system, s1, s2): \n",
    "    pref_list = [preference_list[s1], preference_list[s2]]\n",
    "    t_switch = 0\n",
    "    while t_switch < T_dilute:\n",
    "        #list of resource in use for each consumer\n",
    "        use = [0 for i in range(Nb)]\n",
    "        # list of consumers for each resource\n",
    "        consumer = [[] for i in range(Nr)]\n",
    "        for i in range(Nb):\n",
    "            # if all are depleted, bug still uses its least preferred nutrient\n",
    "            while system['res_available'][pref_list[i][use[i]]] < 1 and use[i] < Nr - 1:\n",
    "                use[i] = use[i] + 1\n",
    "            if system['bug_available'][i] > 0:\n",
    "                consumer[pref_list[i][use[i]]].append(i)\n",
    "        # find the earliest depleted resource\n",
    "        t_dep = T_dilute - t_switch\n",
    "        for i in range(Nr):\n",
    "            if system['res_available'][i] > 0:\n",
    "                def remain(t):  \n",
    "                    # S = c - sum(B0(e^gt-1)/Y)                \n",
    "                    return system['res_concentration'][i] - sum([system['bug_density'][j]*(math.exp(t*growth_rate_list[j][i]) - 1)/yields_list[j][i] for j in consumer[i]])\n",
    "                    #print(consumer[0])\n",
    "                # a little bit tricky here...\n",
    "                t_i = root(remain, T_dilute + 1).x[0]\n",
    "                if t_i < t_dep:\n",
    "                    t_dep = t_i\n",
    "        # update the system according to this t_dep\n",
    "        t_switch = t_switch + t_dep\n",
    "        temp_bug_density = [i for i in system['bug_density']]\n",
    "        for i in range(Nb):\n",
    "            if system['res_available'][pref_list[i][use[i]]] > 0:\n",
    "                temp_bug_density[i] = system['bug_density'][i]*math.exp(growth_rate_list[i][pref_list[i][use[i]]]*t_dep)\n",
    "        for i in range(Nr):\n",
    "            if system['res_available'][i] > 0:\n",
    "                system['res_concentration'][i] = system['res_concentration'][i] - sum([system['bug_density'][j]*(math.exp(t_dep*growth_rate_list[j][i]) - 1)/yields_list[j][i] for j in consumer[i]])\n",
    "                if system['res_concentration'][i] < c_threshold: \n",
    "                    system['res_available'][i] = 0\n",
    "        for i in range(Nb):\n",
    "            system['bug_density'][i] = temp_bug_density[i]\n",
    "    #print(system)\n",
    "    #print(\"diluted once\")\n",
    "    return system\n",
    "        \n",
    "def move_to_new(system):\n",
    "    system['bug_density'] = [(i*D > b_threshold)*i*D for i in system['bug_density']]\n",
    "    system['bug_available'] = [1*(system['bug_density'][i] > b_threshold) for i in range(Nb)]\n",
    "    system['res_concentration'] = [(system['res_concentration'][i]*D + Res[i]) / (D + 1) for i in range(Nr)]\n",
    "    system['res_available'] = [1*(system['res_concentration'][i] > c_threshold) for i in range(Nr)]\n",
    "    return system\n",
    "\n",
    "def isNE(s1, s2, pay1, pay2):\n",
    "    for i in range(Nl):\n",
    "        if pay1[i, s2] > pay1[s1, s2]: return False\n",
    "    for j in range(Nl):\n",
    "        if pay2[s1, j] > pay2[s1, s2]: return False\n",
    "    if pay1[s1, s2]*pay2[s1, s2] == 0:return False\n",
    "    return True"
   ]
  },
  {
   "cell_type": "code",
   "execution_count": 33,
   "metadata": {},
   "outputs": [
    {
     "name": "stdout",
     "output_type": "stream",
     "text": [
      "0\n",
      "1\n",
      "2\n",
      "3\n",
      "4\n",
      "5\n",
      "6\n",
      "7\n",
      "8\n",
      "9\n",
      "10\n",
      "11\n",
      "12\n",
      "13\n",
      "14\n",
      "15\n",
      "16\n",
      "17\n",
      "18\n",
      "19\n",
      "20\n",
      "21\n",
      "22\n",
      "23\n",
      "24\n",
      "25\n",
      "26\n",
      "27\n",
      "28\n",
      "29\n",
      "30\n",
      "31\n",
      "32\n",
      "33\n",
      "34\n",
      "35\n",
      "36\n",
      "37\n",
      "38\n",
      "39\n",
      "40\n",
      "41\n",
      "42\n",
      "43\n",
      "44\n",
      "45\n",
      "46\n",
      "47\n",
      "48\n",
      "49\n",
      "50\n",
      "51\n",
      "52\n",
      "53\n",
      "54\n",
      "55\n",
      "56\n",
      "57\n",
      "58\n",
      "59\n",
      "60\n",
      "61\n",
      "62\n",
      "63\n"
     ]
    },
    {
     "data": {
      "text/plain": [
       "150.39692544937134"
      ]
     },
     "execution_count": 33,
     "metadata": {},
     "output_type": "execute_result"
    }
   ],
   "source": [
    "# generate the matrices\n",
    "start = time.time()\n",
    "budget = 8\n",
    "scale = 8\n",
    "NEs = np.zeros([budget*scale, budget*scale])\n",
    "NE_records = []\n",
    "for g11 in range(budget*scale):\n",
    "    print(g11)\n",
    "    for g21 in range(budget*scale):\n",
    "        growth_rate_list = np.zeros([2, 2])\n",
    "        growth_rate_list[0][0] = g11/scale\n",
    "        growth_rate_list[0][1] = budget - g11/scale\n",
    "        growth_rate_list[1][0] = g21/scale\n",
    "        growth_rate_list[1][1] = budget - g21/scale\n",
    "        \n",
    "        pay1 = np.zeros([2, 2])\n",
    "        pay2 = np.zeros([2, 2])\n",
    "        for s1 in range(Nl):\n",
    "            for s2 in range(Nl):\n",
    "                system = {'res_available': [1, 1], 'res_concentration': [1.0, 1.0], 'bug_available': [1, 1], 'bug_density': [b0, b0]}\n",
    "                for i in range(dilute_to_steady):\n",
    "                    system = dilute(system, s1, s2)\n",
    "                    system = move_to_new(system)\n",
    "                system = dilute(system, s1, s2)\n",
    "                pay1[s1, s2] = round(system['bug_density'][0], 5)\n",
    "                pay2[s1, s2] = round(system['bug_density'][1], 5)\n",
    "\n",
    "        # find NE\n",
    "        NE = []\n",
    "        for s1 in range(Nl):\n",
    "            for s2 in range(Nl):             \n",
    "                if isNE(s1, s2, pay1, pay2) == True:\n",
    "                    NE.append([s1, s2])\n",
    "                    \n",
    "        NEs[g11, g21] = len(NE)\n",
    "        NE_records.append((g11, g21, NE, pay1, pay2))\n",
    "        \n",
    "end = time.time()\n",
    "end-start"
   ]
  },
  {
   "cell_type": "code",
   "execution_count": 34,
   "metadata": {},
   "outputs": [
    {
     "data": {
      "text/plain": [
       "Text(0,0.5,'g21')"
      ]
     },
     "execution_count": 34,
     "metadata": {},
     "output_type": "execute_result"
    },
    {
     "data": {
      "image/png": "[encoded data removed]",
      "text/plain": [
       "<Figure size 288x288 with 1 Axes>"
      ]
     },
     "metadata": {},
     "output_type": "display_data"
    }
   ],
   "source": [
    "plt.matshow(NEs)\n",
    "plt.xlabel('g11')\n",
    "plt.ylabel('g21')"
   ]
  },
  {
   "cell_type": "code",
   "execution_count": 27,
   "metadata": {},
   "outputs": [
    {
     "data": {
      "text/plain": [
       "array([[1., 0.],\n",
       "       [0., 0.]])"
      ]
     },
     "execution_count": 27,
     "metadata": {},
     "output_type": "execute_result"
    }
   ],
   "source": [
    "pay1 = np.zeros([2, 2])\n",
    "pay2 = np.zeros([2, 2])\n",
    "growth_rate_list = [[31/8, 33/8], [10/8, 54/8]]\n",
    "system = {'res_available': [1, 1], 'res_concentration': [1.0, 1.0], 'bug_available': [1, 1], 'bug_density': [b0, b0]}\n",
    "s1 = 0\n",
    "s2 = 0\n",
    "for i in range(dilute_to_steady):\n",
    "    system = dilute(system, s1, s2)\n",
    "    system = move_to_new(system)\n",
    "system = dilute(system, s1, s2)\n",
    "pay1[s1, s2] = round(system['bug_density'][0], 5)\n",
    "pay2[s1, s2] = round(system['bug_density'][1], 5)\n",
    "pay1"
   ]
  },
  {
   "cell_type": "code",
   "execution_count": 31,
   "metadata": {},
   "outputs": [
    {
     "data": {
      "text/plain": [
       "(10, 31, [[1, 0], [1, 1]], array([[0., 0.],\n",
       "        [1., 1.]]), array([[1., 1.],\n",
       "        [0., 0.]]))"
      ]
     },
     "execution_count": 31,
     "metadata": {},
     "output_type": "execute_result"
    }
   ],
   "source": [
    "NE_records[671]"
   ]
  },
  {
   "cell_type": "code",
   "execution_count": 18,
   "metadata": {},
   "outputs": [
    {
     "data": {
      "text/plain": [
       "array([ 1.11022302e-16, -1.11022302e-16])"
      ]
     },
     "execution_count": 18,
     "metadata": {},
     "output_type": "execute_result"
    }
   ],
   "source": [
    "growth_rate_list = np.array([[4, 4], [4, 4]])\n",
    "for s1 in range(Nl):\n",
    "    for s2 in range(Nl):\n",
    "        system = {'res_available': [1, 1], 'res_concentration': [1.0, 1.0], 'bug_available': [1, 1], 'bug_density': [b0, b0]}\n",
    "        for i in range(dilute_to_steady):\n",
    "            system = dilute(system, s1, s2)\n",
    "            system = move_to_new(system)\n",
    "        system = dilute(system, s1, s2)\n",
    "        pay1[s1, s2] = system['bug_density'][0]\n",
    "        pay2[s1, s2] = system['bug_density'][1]\n",
    "#isNE(1, 0, pay1, pay2)\n",
    "pay2[0]-pay2[1]"
   ]
  },
  {
   "cell_type": "markdown",
   "metadata": {},
   "source": [
    "the above needs some understand, too hungry to think, let's look at 3 nutrients"
   ]
  },
  {
   "cell_type": "code",
   "execution_count": 35,
   "metadata": {},
   "outputs": [],
   "source": [
    "# initialization\n",
    "\n",
    "import numpy as np\n",
    "import math\n",
    "import random\n",
    "import itertools\n",
    "from scipy.optimize import root, fsolve\n",
    "import matplotlib.pyplot as plt\n",
    "import copy\n",
    "import time\n",
    "\n",
    "Res = [1.0, 1.0, 1.0]\n",
    "Nr = 3\n",
    "Nb = Nr\n",
    "Nl = math.factorial(Nr)\n",
    "g_mean, g_var = 1, 0.4\n",
    "# budget 8\n",
    "growth_rate_list = np.exp(np.random.normal(g_mean, math.sqrt(g_var), (Nb, Nr)))\n",
    "filt = np.heaviside(growth_rate_list, 0)\n",
    "growth_rate_list = filt*growth_rate_list\n",
    "budget = 6\n",
    "growth_rate_list = budget*growth_rate_list / np.sum(growth_rate_list, axis=1)[:, None]\n",
    "#preference list\n",
    "preference_list = list(itertools.permutations(range(Nr), Nr))\n",
    "b0 = 1e-3 # density of bug when introduced/initial\n",
    "b_threshold = 1e-6 # extinction density\n",
    "c_threshold = 1e-9 # concentration threshold\n",
    "# yields\n",
    "yields_list = 0.5*np.ones([Nb, Nr]) # might need to be modified later?\n",
    "\n",
    "# dilution parameters \n",
    "D = 1e-3\n",
    "tau = 0 # lag\n",
    "T_dilute = 10 # time interval between dilutions\n",
    "dilute_to_steady = 15 # #(dilution) between invasions"
   ]
  },
  {
   "cell_type": "code",
   "execution_count": 36,
   "metadata": {},
   "outputs": [],
   "source": [
    "def dilute(system, s1, s2, s3): \n",
    "    pref_list = [preference_list[s1], preference_list[s2], preference_list[s3]]\n",
    "    t_switch = 0\n",
    "    while t_switch < T_dilute:\n",
    "        #list of resource in use for each consumer\n",
    "        use = [0 for i in range(Nb)]\n",
    "        # list of consumers for each resource\n",
    "        consumer = [[] for i in range(Nr)]\n",
    "        for i in range(Nb):\n",
    "            # if all are depleted, bug still uses its least preferred nutrient\n",
    "            while system['res_available'][pref_list[i][use[i]]] < 1 and use[i] < Nr - 1:\n",
    "                use[i] = use[i] + 1\n",
    "            if system['bug_available'][i] > 0:\n",
    "                consumer[pref_list[i][use[i]]].append(i)\n",
    "        # find the earliest depleted resource\n",
    "        t_dep = T_dilute - t_switch\n",
    "        for i in range(Nr):\n",
    "            if system['res_available'][i] > 0:\n",
    "                def remain(t):  \n",
    "                    # S = c - sum(B0(e^gt-1)/Y)   \n",
    "                    return system['res_concentration'][i] - sum([system['bug_density'][j]*(math.exp(t*growth_rate_list[j][i]) - 1)/yields_list[j][i] for j in consumer[i]])\n",
    "                # a little bit tricky here...\n",
    "                t_i = root(remain, T_dilute + 1).x[0]\n",
    "                if t_i < t_dep:\n",
    "                    t_dep = t_i\n",
    "        # update the system according to this t_dep\n",
    "        t_switch = t_switch + t_dep\n",
    "        temp_bug_density = [i for i in system['bug_density']]\n",
    "        for i in range(Nb):\n",
    "            if system['res_available'][pref_list[i][use[i]]] > 0:\n",
    "                temp_bug_density[i] = system['bug_density'][i]*math.exp(growth_rate_list[i][pref_list[i][use[i]]]*t_dep)\n",
    "        for i in range(Nr):\n",
    "            if system['res_available'][i] > 0:\n",
    "                system['res_concentration'][i] = system['res_concentration'][i] - sum([system['bug_density'][j]*(math.exp(t_dep*growth_rate_list[j][i]) - 1)/yields_list[j][i] for j in consumer[i]])\n",
    "                #print(system['res_concentration'])\n",
    "                if system['res_concentration'][i] < c_threshold: \n",
    "                    system['res_available'][i] = 0\n",
    "        for i in range(Nb):\n",
    "            system['bug_density'][i] = temp_bug_density[i]\n",
    "    #print(system)\n",
    "    #print(\"diluted once\")\n",
    "    return system\n",
    "        \n",
    "def move_to_new(system):\n",
    "    system['bug_density'] = [(i*D > b_threshold)*i*D for i in system['bug_density']]\n",
    "    system['bug_available'] = [1*(system['bug_density'][i] > b_threshold) for i in range(Nb)]\n",
    "    system['res_concentration'] = [(system['res_concentration'][i]*D + Res[i]) / (D + 1) for i in range(Nr)]\n",
    "    system['res_available'] = [1*(system['res_concentration'][i] > c_threshold) for i in range(Nr)]\n",
    "    return system\n",
    "\n",
    "def isNE(s1, s2, s3, pay1, pay2, pay3):\n",
    "    for i in range(Nl):\n",
    "        if pay1[i, s2, s3] > pay1[s1, s2, s3]: return False\n",
    "    for i in range(Nl):\n",
    "        if pay2[s1, i, s3] > pay2[s1, s2, s3]: return False\n",
    "    for i in range(Nl):\n",
    "        if pay3[s1, s2, i] > pay3[s1, s2, s3]: return False\n",
    "    if pay1[s1, s2, s3]==0 or pay2[s1, s2, s3]==0 or pay3[s1, s2, s3]==0: return False\n",
    "    return True\n",
    "\n",
    "def test(growth_rate_list, system, s1, s2, s3):\n",
    "    for i in range(dilute_to_steady):\n",
    "        system = dilute(system, s1, s2, s3)\n",
    "        system = move_to_new(system)\n",
    "    system = dilute(system, s1, s2, s3)\n",
    "    system['bug_density'] = [((i-0.05)>0)*i for i in system['bug_density']]\n",
    "    system['bug_available'] = [system['bug_available'][i]*(system['bug_density'][i]>0) for i in range(Nb)]\n",
    "    system = move_to_new(system)\n",
    "    system = dilute(system, s1, s2, s3)\n",
    "    return system"
   ]
  },
  {
   "cell_type": "code",
   "execution_count": 40,
   "metadata": {},
   "outputs": [
    {
     "name": "stdout",
     "output_type": "stream",
     "text": [
      "0\n",
      "59.517467975616455\n",
      "1\n",
      "52.40873098373413\n",
      "2\n",
      "53.01411175727844\n",
      "3\n",
      "54.28734469413757\n",
      "4\n",
      "60.51978802680969\n",
      "5\n",
      "95.12860679626465\n",
      "6\n",
      "66.39272570610046\n",
      "7\n",
      "73.36382603645325\n",
      "8\n",
      "67.72985625267029\n",
      "9\n",
      "77.92083978652954\n"
     ]
    }
   ],
   "source": [
    "# This is where I test how could k affect the result. \n",
    "budget = 8\n",
    "\n",
    "allGR = []\n",
    "allNE = []\n",
    "Nl = 6\n",
    "for i in range(10):\n",
    "\n",
    "    # generate the matrices\n",
    "    start = time.time()\n",
    "    nSamples = 10\n",
    "    #NEs = np.zeros([budget*scale, budget*scale])\n",
    "    GRlist = []\n",
    "    NEslist = []\n",
    "    paylist = []\n",
    "\n",
    "    for idx in range(nSamples):\n",
    "        #glist = np.random.rand(3, 3)\n",
    "        glist = np.random.rand(3, 3)+np.identity(3)*i*0.3\n",
    "        row_sums = glist.sum(axis=1)\n",
    "        growth_rate_list = glist / row_sums[:, np.newaxis] * budget\n",
    "        pay1 = np.zeros((Nl, Nl, Nl))\n",
    "        pay2 = np.zeros((Nl, Nl, Nl))\n",
    "        pay3 = np.zeros((Nl, Nl, Nl))\n",
    "        for s1 in range(Nl):\n",
    "            for s2 in range(Nl):\n",
    "                #print('check')\n",
    "                for s3 in range(Nl):\n",
    "                    system = {'res_available': [1, 1, 1], 'res_concentration': [1.0, 1.0, 1.0], 'bug_available': [1, 1, 1], 'bug_density': [b0, b0, b0]}\n",
    "                    system = test(growth_rate_list, system, s1, s2, s3)\n",
    "                    pay1[s1, s2, s3] = system['bug_density'][0]\n",
    "                    pay2[s1, s2, s3] = system['bug_density'][1]\n",
    "                    pay3[s1, s2, s3] = system['bug_density'][2]\n",
    "\n",
    "        # find NE\n",
    "        NE = []\n",
    "        for s1 in range(Nl):\n",
    "            for s2 in range(Nl):    \n",
    "                for s3 in range(Nl):\n",
    "                    if isNE(s1, s2, s3, pay1, pay2, pay3) == True:\n",
    "                        NE.append([s1, s2, s3])\n",
    "        GRlist.append(growth_rate_list)\n",
    "        NEslist.append(NE)\n",
    "        #print(idx)\n",
    "        #paylist.append(pay1)\n",
    "\n",
    "    end = time.time()\n",
    "    print(i)\n",
    "    print(end-start)\n",
    "    allGR.append(GRlist)\n",
    "    allNE.append(NEslist)\n"
   ]
  },
  {
   "cell_type": "code",
   "execution_count": 41,
   "metadata": {},
   "outputs": [
    {
     "name": "stdout",
     "output_type": "stream",
     "text": [
      "Stored 'allNE' (list)\n",
      "Stored 'allGR' (list)\n"
     ]
    },
    {
     "data": {
      "text/plain": [
       "[[[0, 2, 4], [0, 2, 5], [1, 2, 4], [1, 2, 5]],\n",
       " [[0, 2, 4], [0, 2, 5], [1, 2, 4], [1, 2, 5]],\n",
       " [[0, 2, 5], [0, 3, 5], [1, 2, 5], [1, 3, 5]],\n",
       " [[1, 2, 4], [1, 2, 5], [1, 3, 4], [1, 3, 5]],\n",
       " [[1, 2, 4], [1, 2, 5], [1, 3, 4], [1, 3, 5]],\n",
       " [[0, 2, 4], [0, 2, 5], [0, 3, 4], [0, 3, 5]],\n",
       " [[0, 2, 4], [0, 2, 5], [1, 2, 4], [1, 2, 5]],\n",
       " [[0, 2, 4], [0, 3, 4], [1, 2, 4], [1, 3, 4]],\n",
       " [[0, 2, 4], [0, 3, 4], [1, 2, 4], [1, 3, 4]],\n",
       " [[0, 2, 5], [0, 3, 5], [1, 2, 5], [1, 3, 5]]]"
      ]
     },
     "execution_count": 41,
     "metadata": {},
     "output_type": "execute_result"
    }
   ],
   "source": [
    "%store allNE\n",
    "%store allGR\n",
    "NEslist"
   ]
  },
  {
   "cell_type": "code",
   "execution_count": 20,
   "metadata": {},
   "outputs": [
    {
     "name": "stdout",
     "output_type": "stream",
     "text": [
      "[]\n",
      "[[6.36534644 0.64757927 0.98707429]\n",
      " [1.7132649  5.87708086 0.40965424]\n",
      " [1.04334813 1.34985358 5.6067983 ]]\n"
     ]
    },
    {
     "data": {
      "image/png": "[encoded data removed]",
      "text/plain": [
       "<Figure size 432x288 with 1 Axes>"
      ]
     },
     "metadata": {},
     "output_type": "display_data"
    }
   ],
   "source": [
    "\n",
    "import matplotlib.pyplot as plt\n",
    "from matplotlib.patches import Circle\n",
    "\n",
    "def plot_triangle(A, B, C):\n",
    "    x = [A[0], B[0], C[0], A[0]]\n",
    "    y = [A[1], B[1], C[1], A[1]]\n",
    "    ax = plt.gca()\n",
    "    ax.plot(x, y, linewidth=2)\n",
    "\n",
    "def draw_circle(x, y, r):\n",
    "    ax = plt.gca()\n",
    "    cir = Circle(xy=(x, y), radius=r, alpha=0.5)\n",
    "    ax.add_patch(cir)\n",
    "    ax.plot()\n",
    "    \n",
    "def project(data):\n",
    "    draw_circle((data[0][1]-data[0][0])/math.sqrt(2)/sum(data[0]), data[0][2]*math.sqrt(6)/2/sum(data[0]), 0.02)\n",
    "    draw_circle((data[1][1]-data[1][0])/math.sqrt(2)/sum(data[1]), data[1][2]*math.sqrt(6)/2/sum(data[1]), 0.02)\n",
    "    draw_circle((data[2][1]-data[2][0])/math.sqrt(2)/sum(data[2]), data[2][2]*math.sqrt(6)/2/sum(data[2]), 0.02)\n",
    "    \n",
    "plt.axis('equal')\n",
    "plot_triangle([-math.sqrt(2)/2, 0], [math.sqrt(2)/2, 0], [0, math.sqrt(6)/2])\n",
    "#draw_circle((output(system)[3][0][1]-output(system)[3][0][0])/math.sqrt(2)/8, output(system)[3][0][2]*math.sqrt(6)/16, 0.02)\n",
    "for GR in GRlist:\n",
    "    project(GR)\n",
    "a = []\n",
    "for idx, i in enumerate(NEslist):\n",
    "    if len(i)>0: a.append(idx)\n",
    "print(a)\n",
    "print(GRlist[1])# I should just randomly generate groups of growth rates and save them with the corresponding NEs. "
   ]
  },
  {
   "cell_type": "code",
   "execution_count": 138,
   "metadata": {},
   "outputs": [],
   "source": [
    "budget = 8\n",
    "\n",
    "# generate the matrices\n",
    "def NEFind(k, nSamples):\n",
    "    start = time.time()\n",
    "    GRlist_1 = []\n",
    "    NEslist_1 = []\n",
    "    #paylist_1 = []\n",
    "\n",
    "    for idx in range(nSamples):\n",
    "        glist = np.random.rand(3, 3)+k*np.identity(3)\n",
    "        #glist = np.random.rand(3, 3)+np.identity(3)*5\n",
    "        row_sums = glist.sum(axis=1)\n",
    "        growth_rate_list = glist / row_sums[:, np.newaxis] * budget\n",
    "        pay1 = np.zeros((Nl, Nl, Nl))\n",
    "        pay2 = np.zeros((Nl, Nl, Nl))\n",
    "        pay3 = np.zeros((Nl, Nl, Nl))\n",
    "        for s1 in range(Nl):\n",
    "            for s2 in range(Nl):\n",
    "                #print('check')\n",
    "                for s3 in range(Nl):\n",
    "                    system = {'res_available': [1, 1, 1], 'res_concentration': [1.0, 1.0, 1.0], 'bug_available': [1, 1, 1], 'bug_density': [b0, b0, b0]}\n",
    "                    system = test(growth_rate_list, system, s1, s2, s3)\n",
    "                    pay1[s1, s2, s3] = system['bug_density'][0]\n",
    "                    pay2[s1, s2, s3] = system['bug_density'][1]\n",
    "                    pay3[s1, s2, s3] = system['bug_density'][2]\n",
    "\n",
    "        # find NE\n",
    "        NE = []\n",
    "        for s1 in range(Nl):\n",
    "            for s2 in range(Nl):    \n",
    "                for s3 in range(Nl):\n",
    "                    if isNE(s1, s2, s3, pay1, pay2, pay3) == True:\n",
    "                        NE.append([s1, s2, s3])\n",
    "        GRlist_1.append(growth_rate_list)\n",
    "        NEslist_1.append(NE)\n",
    "        print(idx)\n",
    "        print(NEslist_1)\n",
    "        #paylist.append(pay1)\n",
    "\n",
    "    end = time.time()\n",
    "    print(end-start)\n",
    "    return GRlist_1, NEslist_1, pay1, pay2, pay3"
   ]
  },
  {
   "cell_type": "code",
   "execution_count": 196,
   "metadata": {},
   "outputs": [
    {
     "data": {
      "text/plain": [
       "[array([[5.43044264, 1.43099831, 1.13855905],\n",
       "        [1.79351505, 5.59129159, 0.61519335],\n",
       "        [1.60486273, 1.52931749, 4.86581978]])]"
      ]
     },
     "execution_count": 196,
     "metadata": {},
     "output_type": "execute_result"
    }
   ],
   "source": [
    "GRlist_1"
   ]
  },
  {
   "cell_type": "code",
   "execution_count": 24,
   "metadata": {},
   "outputs": [
    {
     "data": {
      "text/plain": [
       "array([[[0.41729732, 0.41729732],\n",
       "        [0.49116249, 0.49116249]],\n",
       "\n",
       "       [[1.000001  , 1.000001  ],\n",
       "        [1.000001  , 1.000001  ]]])"
      ]
     },
     "execution_count": 24,
     "metadata": {},
     "output_type": "execute_result"
    }
   ],
   "source": [
    "pay2"
   ]
  },
  {
   "cell_type": "code",
   "execution_count": 1,
   "metadata": {},
   "outputs": [
    {
     "ename": "NameError",
     "evalue": "name 'time' is not defined",
     "output_type": "error",
     "traceback": [
      "\u001b[1;31m---------------------------------------------------------------------------\u001b[0m",
      "\u001b[1;31mNameError\u001b[0m                                 Traceback (most recent call last)",
      "\u001b[1;32m<ipython-input-1-83002dc4498e>\u001b[0m in \u001b[0;36m<module>\u001b[1;34m()\u001b[0m\n\u001b[0;32m     67\u001b[0m     \u001b[1;32mreturn\u001b[0m \u001b[1;32mTrue\u001b[0m\u001b[1;33m\u001b[0m\u001b[0m\n\u001b[0;32m     68\u001b[0m \u001b[1;33m\u001b[0m\u001b[0m\n\u001b[1;32m---> 69\u001b[1;33m \u001b[0mstart\u001b[0m \u001b[1;33m=\u001b[0m \u001b[0mtime\u001b[0m\u001b[1;33m.\u001b[0m\u001b[0mtime\u001b[0m\u001b[1;33m(\u001b[0m\u001b[1;33m)\u001b[0m\u001b[1;33m\u001b[0m\u001b[0m\n\u001b[0m\u001b[0;32m     70\u001b[0m \u001b[0mnSamples\u001b[0m \u001b[1;33m=\u001b[0m \u001b[1;36m6\u001b[0m\u001b[1;33m*\u001b[0m\u001b[1;36m6\u001b[0m\u001b[1;33m*\u001b[0m\u001b[1;36m6\u001b[0m\u001b[1;33m\u001b[0m\u001b[0m\n\u001b[0;32m     71\u001b[0m \u001b[0mNEs\u001b[0m \u001b[1;33m=\u001b[0m \u001b[0mnp\u001b[0m\u001b[1;33m.\u001b[0m\u001b[0mzeros\u001b[0m\u001b[1;33m(\u001b[0m\u001b[1;33m[\u001b[0m\u001b[0mbudget\u001b[0m\u001b[1;33m*\u001b[0m\u001b[0mscale\u001b[0m\u001b[1;33m,\u001b[0m \u001b[0mbudget\u001b[0m\u001b[1;33m*\u001b[0m\u001b[0mscale\u001b[0m\u001b[1;33m]\u001b[0m\u001b[1;33m)\u001b[0m\u001b[1;33m\u001b[0m\u001b[0m\n",
      "\u001b[1;31mNameError\u001b[0m: name 'time' is not defined"
     ]
    }
   ],
   "source": [
    "# I should just randomly generate groups of growth rates and save them with the corresponding NEs. \n",
    "glist = [[1.0, 2.0, 3.0], [1.0, 3.0, 2.0], [2.0, 1.0, 3.0], [2.0, 3.0, 1.0], [3.0, 1.0, 2.0], [3.0, 2.0, 1.0], [2.0, 2.0, 2.0]]\n",
    "\n",
    "def dilute(system, pref1, pref2, pref3, s1, s2, s3): \n",
    "    growth_rate_list = [glist[s1], glist[s2], glist[s3]]\n",
    "    pref_list = [preference_list[pref1], preference_list[pref2], preference_list[pref3]]\n",
    "    t_switch = 0\n",
    "    while t_switch < T_dilute:\n",
    "        #list of resource in use for each consumer\n",
    "        use = [0 for i in range(Nb)]\n",
    "        # list of consumers for each resource\n",
    "        consumer = [[] for i in range(Nr)]\n",
    "        for i in range(Nb):\n",
    "            # if all are depleted, bug still uses its least preferred nutrient\n",
    "            while system['res_available'][pref_list[i][use[i]]] < 1 and use[i] < Nr - 1:\n",
    "                use[i] = use[i] + 1\n",
    "            if system['bug_available'][i] > 0:\n",
    "                consumer[pref_list[i][use[i]]].append(i)\n",
    "        # find the earliest depleted resource\n",
    "        t_dep = T_dilute - t_switch\n",
    "        for i in range(Nr):\n",
    "            if system['res_available'][i] > 0:\n",
    "                def remain(t):  \n",
    "                    # S = c - sum(B0(e^gt-1)/Y)   \n",
    "                    return system['res_concentration'][i] - sum([system['bug_density'][j]*(math.exp(t*growth_rate_list[j][i]) - 1)/yields_list[j][i] for j in consumer[i]])\n",
    "                # a little bit tricky here...\n",
    "                t_i = root(remain, T_dilute + 1).x[0]\n",
    "                if t_i < t_dep:\n",
    "                    t_dep = t_i\n",
    "        # update the system according to this t_dep\n",
    "        t_switch = t_switch + t_dep\n",
    "        temp_bug_density = [i for i in system['bug_density']]\n",
    "        for i in range(Nb):\n",
    "            if system['res_available'][pref_list[i][use[i]]] > 0:\n",
    "                temp_bug_density[i] = system['bug_density'][i]*math.exp(growth_rate_list[i][pref_list[i][use[i]]]*t_dep)\n",
    "        for i in range(Nr):\n",
    "            if system['res_available'][i] > 0:\n",
    "                system['res_concentration'][i] = system['res_concentration'][i] - sum([system['bug_density'][j]*(math.exp(t_dep*growth_rate_list[j][i]) - 1)/yields_list[j][i] for j in consumer[i]])\n",
    "                #print(system['res_concentration'])\n",
    "                if system['res_concentration'][i] < c_threshold: \n",
    "                    system['res_available'][i] = 0\n",
    "        for i in range(Nb):\n",
    "            system['bug_density'][i] = temp_bug_density[i]\n",
    "    #print(system)\n",
    "    #print(\"diluted once\")\n",
    "    return system\n",
    "\n",
    "def test(system, pref1, pref2, pref3, s1, s2, s3):\n",
    "    for i in range(dilute_to_steady):\n",
    "        system = dilute(system, pref1, pref2, pref3, s1, s2, s3)\n",
    "        system = move_to_new(system)\n",
    "    system = dilute(system, pref1, pref2, pref3, s1, s2, s3)\n",
    "    system['bug_density'] = [((i-0.05)>0)*i for i in system['bug_density']]\n",
    "    system['bug_available'] = [system['bug_available'][i]*(system['bug_density'][i]>0) for i in range(Nb)]\n",
    "    system = move_to_new(system)\n",
    "    system = dilute(system, pref1, pref2, pref3, s1, s2, s3)\n",
    "    return system\n",
    "\n",
    "def isNE(s1, s2, s3, pay1, pay2, pay3):\n",
    "    for i in range(Nl):\n",
    "        if pay1[i, s2, s3] > pay1[s1, s2, s3]: return False\n",
    "    for i in range(Nl):\n",
    "        if pay2[s1, i, s3] > pay2[s1, s2, s3]: return False\n",
    "    for i in range(Nl):\n",
    "        if pay3[s1, s2, i] > pay3[s1, s2, s3]: return False\n",
    "    if pay1[s1, s2, s3]==0 or pay2[s1, s2, s3]==0 or pay3[s1, s2, s3]==0: return False\n",
    "    return True\n",
    "\n",
    "start = time.time()\n",
    "nSamples = 6*6*6\n",
    "NEs = np.zeros([budget*scale, budget*scale])\n",
    "PFlist = []\n",
    "NEslist_2 = []\n",
    "paylist_2 = []\n",
    "Nl = 7\n",
    "\n",
    "for pref1 in range(6):\n",
    "    for pref2 in range(6):\n",
    "        print(pref2)\n",
    "        for pref3 in range(6):\n",
    "            pay1 = np.zeros((Nl, Nl, Nl))\n",
    "            pay2 = np.zeros((Nl, Nl, Nl))\n",
    "            pay3 = np.zeros((Nl, Nl, Nl))\n",
    "            for s1 in range(7):\n",
    "                for s2 in range(7):\n",
    "                    #print('check')\n",
    "                    for s3 in range(7):\n",
    "                        system = {'res_available': [1, 1, 1], 'res_concentration': [1.0, 1.0, 1.0], 'bug_available': [1, 1, 1], 'bug_density': [b0, b0, b0]}\n",
    "                        system = test(system, pref1, pref2, pref3, s1, s2, s3)\n",
    "                        pay1[s1, s2, s3] = system['bug_density'][0]\n",
    "                        pay2[s1, s2, s3] = system['bug_density'][1]\n",
    "                        pay3[s1, s2, s3] = system['bug_density'][2]\n",
    "\n",
    "            # find NE\n",
    "            NE = []\n",
    "            for s1 in range(Nl):\n",
    "                for s2 in range(Nl):    \n",
    "                    for s3 in range(Nl):\n",
    "                        if isNE(s1, s2, s3, pay1, pay2, pay3) == True:\n",
    "                            NE.append([s1, s2, s3])\n",
    "            PFlist.append([preference_list[pref1],preference_list[pref2], preference_list[pref3]])\n",
    "            NEslist_2.append(NE)\n",
    "            #print(idx)\n",
    "            #paylist_2.append(pay1)\n",
    "        \n",
    "end = time.time()\n",
    "end-start"
   ]
  },
  {
   "cell_type": "code",
   "execution_count": 170,
   "metadata": {},
   "outputs": [
    {
     "name": "stdout",
     "output_type": "stream",
     "text": [
      "Stored 'NEslist_2' (list)\n",
      "Stored 'PFlist' (list)\n"
     ]
    }
   ],
   "source": [
    "%store NEslist_2\n",
    "%store PFlist"
   ]
  },
  {
   "cell_type": "code",
   "execution_count": 185,
   "metadata": {},
   "outputs": [],
   "source": [
    "import collections"
   ]
  },
  {
   "cell_type": "code",
   "execution_count": 176,
   "metadata": {},
   "outputs": [],
   "source": [
    "pref1, pref2, pref3 = 0, 2, 4\n",
    "for s1 in range(7):\n",
    "    for s2 in range(7):\n",
    "        #print('check')\n",
    "        for s3 in range(7):\n",
    "            system = {'res_available': [1, 1, 1], 'res_concentration': [1.0, 1.0, 1.0], 'bug_available': [1, 1, 1], 'bug_density': [b0, b0, b0]}\n",
    "            system = test(system, pref1, pref2, pref3, s1, s2, s3)\n",
    "            pay1[s1, s2, s3] = system['bug_density'][0]\n",
    "            pay2[s1, s2, s3] = system['bug_density'][1]\n",
    "            pay3[s1, s2, s3] = system['bug_density'][2]"
   ]
  },
  {
   "cell_type": "code",
   "execution_count": 194,
   "metadata": {},
   "outputs": [],
   "source": [
    "a = [len(i)+random.randint(-50, 50)/100 for i in NEslist_2]\n",
    "\n",
    "def getEntropy(list0):\n",
    "    d = collections.Counter(list0)\n",
    "    freqs = [d[i] for i in list0]\n",
    "    summed = sum(freqs)\n",
    "    return sum(-(i/summed)*math.log(i/summed) for i in freqs)\n",
    "\n",
    "b = [getEntropy([elem[0] for elem in i])+random.randint(-50, 50)/10000 for i in PFlist]"
   ]
  },
  {
   "cell_type": "code",
   "execution_count": 195,
   "metadata": {},
   "outputs": [
    {
     "data": {
      "text/plain": [
       "<matplotlib.collections.PathCollection at 0x13cf3667748>"
      ]
     },
     "execution_count": 195,
     "metadata": {},
     "output_type": "execute_result"
    },
    {
     "data": {
      "image/png": "[encoded data removed]",
      "text/plain": [
       "<Figure size 432x288 with 1 Axes>"
      ]
     },
     "metadata": {},
     "output_type": "display_data"
    }
   ],
   "source": [
    "plt.scatter(a, b)"
   ]
  },
  {
   "cell_type": "code",
   "execution_count": 4,
   "metadata": {},
   "outputs": [
    {
     "data": {
      "text/plain": [
       "[1, (1, 2)]"
      ]
     },
     "execution_count": 4,
     "metadata": {},
     "output_type": "execute_result"
    }
   ],
   "source": [
    "a = [1]\n",
    "a.append((1, 2))\n",
    "a"
   ]
  },
  {
   "cell_type": "code",
   "execution_count": null,
   "metadata": {},
   "outputs": [],
   "source": []
  }
 ],
 "metadata": {
  "kernelspec": {
   "display_name": "Python 3",
   "language": "python",
   "name": "python3"
  },
  "language_info": {
   "codemirror_mode": {
    "name": "ipython",
    "version": 3
   },
   "file_extension": ".py",
   "mimetype": "text/x-python",
   "name": "python",
   "nbconvert_exporter": "python",
   "pygments_lexer": "ipython3",
   "version": "3.6.5"
  }
 },
 "nbformat": 4,
 "nbformat_minor": 2
}
