{
 "cells": [
  {
   "cell_type": "markdown",
   "metadata": {},
   "source": [
    "This is to find the nash equilibrium of pure strategies of n species and n resources. Each species has their metabolic pathways fixed and can switch between these pathways. Thus, the growth rate is first generated and the preference order can be changed. The gain of each strategy is determined by the net abundance of the species."
   ]
  },
  {
   "cell_type": "code",
   "execution_count": 14,
   "metadata": {},
   "outputs": [],
   "source": [
    "# initialization\n",
    "\n",
    "import numpy as np\n",
    "import math\n",
    "import random\n",
    "import itertools\n",
    "from scipy.optimize import root\n",
    "import copy\n",
    "import time\n",
    "# set resource number and amount\n",
    "Nr = 2\n",
    "\n",
    "# generate species pool: growth rate from gaussian; preference list; invasion order\n",
    "# growth rates\n",
    "Res = [1.0, 1.0]\n",
    "Nb = Nr\n",
    "Nl = math.factorial(Nr)\n",
    "g_mean, g_var = 1, 0.2\n",
    "growth_rate_list = np.exp(np.random.normal(g_mean, math.sqrt(g_var), (Nb, Nr)))\n",
    "filt = np.heaviside(growth_rate_list, 0)\n",
    "growth_rate_list = filt*growth_rate_list\n",
    "#preference list\n",
    "preference_list = list(itertools.permutations(range(Nr), Nr))\n",
    "b0 = 1e-3 # density of bug when introduced/initial\n",
    "b_threshold = 1e-6 # extinction density\n",
    "c_threshold = 1e-9 # concentration threshold\n",
    "# yields\n",
    "yields_list = 0.5*np.ones([Nb, Nr]) # might need to be modified later?\n",
    "\n",
    "# dilution parameters \n",
    "D = 1e-3\n",
    "tau = 0 # lag\n",
    "T_dilute = 10 # time interval between dilutions\n",
    "dilute_to_steady = 10 # #(dilution) between invasions"
   ]
  },
  {
   "cell_type": "code",
   "execution_count": 176,
   "metadata": {},
   "outputs": [],
   "source": [
    "def dilute(system, s1, s2): \n",
    "    pref_list = [preference_list[s1], preference_list[s2]]\n",
    "    t_switch = 0\n",
    "    while t_switch < T_dilute:\n",
    "        #list of resource in use for each consumer\n",
    "        use = [0 for i in range(Nb)]\n",
    "        # list of consumers for each resource\n",
    "        consumer = [[] for i in range(Nr)]\n",
    "        for i in range(Nb):\n",
    "            # if all are depleted, bug still uses its least preferred nutrient\n",
    "            while system['res_available'][pref_list[i][use[i]]] < 1 and use[i] < Nr - 1:\n",
    "                use[i] = use[i] + 1\n",
    "            if system['bug_available'][i] > 0:\n",
    "                consumer[pref_list[i][use[i]]].append(i)\n",
    "        # find the earliest depleted resource\n",
    "        t_dep = T_dilute - t_switch\n",
    "        for i in range(Nr):\n",
    "            if system['res_available'][i] > 0:\n",
    "                def remain(t):  \n",
    "                    # S = c - sum(B0(e^gt-1)/Y)                \n",
    "                    return system['res_concentration'][i] - sum([system['bug_density'][j]*(math.exp(t*growth_rate_list[j][i]) - 1)/yields_list[j][i] for j in consumer[i]])\n",
    "                    #print(consumer[0])\n",
    "                # a little bit tricky here...\n",
    "                t_i = root(remain, T_dilute + 1).x[0]\n",
    "                if t_i < t_dep:\n",
    "                    t_dep = t_i\n",
    "        # update the system according to this t_dep\n",
    "        t_switch = t_switch + t_dep\n",
    "        temp_bug_density = [i for i in system['bug_density']]\n",
    "        for i in range(Nb):\n",
    "            if system['res_available'][pref_list[i][use[i]]] > 0:\n",
    "                temp_bug_density[i] = system['bug_density'][i]*math.exp(growth_rate_list[i][pref_list[i][use[i]]]*t_dep)\n",
    "        for i in range(Nr):\n",
    "            if system['res_available'][i] > 0:\n",
    "                system['res_concentration'][i] = system['res_concentration'][i] - sum([system['bug_density'][j]*(math.exp(t_dep*growth_rate_list[0][i]) - 1)/yields_list[j][i] for j in consumer[i]])\n",
    "                if system['res_concentration'][i] < c_threshold: \n",
    "                    system['res_available'][i] = 0\n",
    "        for i in range(Nb):\n",
    "            system['bug_density'][i] = temp_bug_density[i]\n",
    "    #print(system)\n",
    "    #print(\"diluted once\")\n",
    "    return system\n",
    "        \n",
    "def move_to_new(system):\n",
    "    system['bug_density'] = [(i*D > b_threshold)*i*D for i in system['bug_density']]\n",
    "    system['bug_available'] = [1*(system['bug_density'][i] > b_threshold) for i in range(Nb)]\n",
    "    system['res_concentration'] = [(system['res_concentration'][i]*D + Res[i]) / (D + 1) for i in range(Nr)]\n",
    "    system['res_available'] = [1*(system['res_concentration'][i] > c_threshold) for i in range(Nr)]\n",
    "    return system\n",
    "\n",
    "def isNE(s1, s2, pay1, pay2):\n",
    "    for i in range(Nl):\n",
    "        if pay1[i, s2] > pay1[s1, s2]: return False\n",
    "    for j in range(Nl):\n",
    "        if pay2[s1, j] > pay2[s1, s2]: return False\n",
    "    return True"
   ]
  },
  {
   "cell_type": "code",
   "execution_count": 177,
   "metadata": {},
   "outputs": [
    {
     "ename": "IndexError",
     "evalue": "list index out of range",
     "output_type": "error",
     "traceback": [
      "\u001b[1;31m---------------------------------------------------------------------------\u001b[0m",
      "\u001b[1;31mIndexError\u001b[0m                                Traceback (most recent call last)",
      "\u001b[1;32m<ipython-input-177-179a60690fe3>\u001b[0m in \u001b[0;36m<module>\u001b[1;34m()\u001b[0m\n\u001b[0;32m      7\u001b[0m         \u001b[0msystem\u001b[0m \u001b[1;33m=\u001b[0m \u001b[1;33m{\u001b[0m\u001b[1;34m'res_available'\u001b[0m\u001b[1;33m:\u001b[0m \u001b[1;33m[\u001b[0m\u001b[1;36m1\u001b[0m\u001b[1;33m,\u001b[0m \u001b[1;36m1\u001b[0m\u001b[1;33m]\u001b[0m\u001b[1;33m,\u001b[0m \u001b[1;34m'res_concentration'\u001b[0m\u001b[1;33m:\u001b[0m \u001b[1;33m[\u001b[0m\u001b[1;36m1.0\u001b[0m\u001b[1;33m,\u001b[0m \u001b[1;36m1.0\u001b[0m\u001b[1;33m]\u001b[0m\u001b[1;33m,\u001b[0m \u001b[1;34m'bug_available'\u001b[0m\u001b[1;33m:\u001b[0m \u001b[1;33m[\u001b[0m\u001b[1;36m1\u001b[0m\u001b[1;33m,\u001b[0m \u001b[1;36m1\u001b[0m\u001b[1;33m]\u001b[0m\u001b[1;33m,\u001b[0m \u001b[1;34m'bug_density'\u001b[0m\u001b[1;33m:\u001b[0m \u001b[1;33m[\u001b[0m\u001b[0mb0\u001b[0m\u001b[1;33m,\u001b[0m \u001b[0mb0\u001b[0m\u001b[1;33m]\u001b[0m\u001b[1;33m}\u001b[0m\u001b[1;33m\u001b[0m\u001b[0m\n\u001b[0;32m      8\u001b[0m         \u001b[1;32mfor\u001b[0m \u001b[0mi\u001b[0m \u001b[1;32min\u001b[0m \u001b[0mrange\u001b[0m\u001b[1;33m(\u001b[0m\u001b[0mdilute_to_steady\u001b[0m\u001b[1;33m)\u001b[0m\u001b[1;33m:\u001b[0m\u001b[1;33m\u001b[0m\u001b[0m\n\u001b[1;32m----> 9\u001b[1;33m             \u001b[0msystem\u001b[0m \u001b[1;33m=\u001b[0m \u001b[0mdilute\u001b[0m\u001b[1;33m(\u001b[0m\u001b[0msystem\u001b[0m\u001b[1;33m,\u001b[0m \u001b[0ms1\u001b[0m\u001b[1;33m,\u001b[0m \u001b[0ms2\u001b[0m\u001b[1;33m)\u001b[0m\u001b[1;33m\u001b[0m\u001b[0m\n\u001b[0m\u001b[0;32m     10\u001b[0m             \u001b[0msystem\u001b[0m \u001b[1;33m=\u001b[0m \u001b[0mmove_to_new\u001b[0m\u001b[1;33m(\u001b[0m\u001b[0msystem\u001b[0m\u001b[1;33m)\u001b[0m\u001b[1;33m\u001b[0m\u001b[0m\n\u001b[0;32m     11\u001b[0m         \u001b[0msystem\u001b[0m \u001b[1;33m=\u001b[0m \u001b[0mdilute\u001b[0m\u001b[1;33m(\u001b[0m\u001b[0msystem\u001b[0m\u001b[1;33m,\u001b[0m \u001b[0ms1\u001b[0m\u001b[1;33m,\u001b[0m \u001b[0ms2\u001b[0m\u001b[1;33m)\u001b[0m\u001b[1;33m\u001b[0m\u001b[0m\n",
      "\u001b[1;32m<ipython-input-176-4191542653dc>\u001b[0m in \u001b[0;36mdilute\u001b[1;34m(system, s1, s2)\u001b[0m\n\u001b[0;32m      9\u001b[0m         \u001b[1;32mfor\u001b[0m \u001b[0mi\u001b[0m \u001b[1;32min\u001b[0m \u001b[0mrange\u001b[0m\u001b[1;33m(\u001b[0m\u001b[0mNb\u001b[0m\u001b[1;33m)\u001b[0m\u001b[1;33m:\u001b[0m\u001b[1;33m\u001b[0m\u001b[0m\n\u001b[0;32m     10\u001b[0m             \u001b[1;31m# if all are depleted, bug still uses its least preferred nutrient\u001b[0m\u001b[1;33m\u001b[0m\u001b[1;33m\u001b[0m\u001b[0m\n\u001b[1;32m---> 11\u001b[1;33m             \u001b[1;32mwhile\u001b[0m \u001b[0msystem\u001b[0m\u001b[1;33m[\u001b[0m\u001b[1;34m'res_available'\u001b[0m\u001b[1;33m]\u001b[0m\u001b[1;33m[\u001b[0m\u001b[0mpref_list\u001b[0m\u001b[1;33m[\u001b[0m\u001b[0mi\u001b[0m\u001b[1;33m]\u001b[0m\u001b[1;33m[\u001b[0m\u001b[0muse\u001b[0m\u001b[1;33m[\u001b[0m\u001b[0mi\u001b[0m\u001b[1;33m]\u001b[0m\u001b[1;33m]\u001b[0m\u001b[1;33m]\u001b[0m \u001b[1;33m<\u001b[0m \u001b[1;36m1\u001b[0m \u001b[1;32mand\u001b[0m \u001b[0muse\u001b[0m\u001b[1;33m[\u001b[0m\u001b[0mi\u001b[0m\u001b[1;33m]\u001b[0m \u001b[1;33m<\u001b[0m \u001b[0mNr\u001b[0m \u001b[1;33m-\u001b[0m \u001b[1;36m1\u001b[0m\u001b[1;33m:\u001b[0m\u001b[1;33m\u001b[0m\u001b[0m\n\u001b[0m\u001b[0;32m     12\u001b[0m                 \u001b[0muse\u001b[0m\u001b[1;33m[\u001b[0m\u001b[0mi\u001b[0m\u001b[1;33m]\u001b[0m \u001b[1;33m=\u001b[0m \u001b[0muse\u001b[0m\u001b[1;33m[\u001b[0m\u001b[0mi\u001b[0m\u001b[1;33m]\u001b[0m \u001b[1;33m+\u001b[0m \u001b[1;36m1\u001b[0m\u001b[1;33m\u001b[0m\u001b[0m\n\u001b[0;32m     13\u001b[0m             \u001b[1;32mif\u001b[0m \u001b[0msystem\u001b[0m\u001b[1;33m[\u001b[0m\u001b[1;34m'bug_available'\u001b[0m\u001b[1;33m]\u001b[0m\u001b[1;33m[\u001b[0m\u001b[0mi\u001b[0m\u001b[1;33m]\u001b[0m \u001b[1;33m>\u001b[0m \u001b[1;36m0\u001b[0m\u001b[1;33m:\u001b[0m\u001b[1;33m\u001b[0m\u001b[0m\n",
      "\u001b[1;31mIndexError\u001b[0m: list index out of range"
     ]
    }
   ],
   "source": [
    "# generate the matrices\n",
    "\n",
    "pay1 = np.zeros([2, 2])\n",
    "pay2 = np.zeros([2, 2])\n",
    "for s1 in range(Nl):\n",
    "    for s2 in range(Nl):\n",
    "        system = {'res_available': [1, 1], 'res_concentration': [1.0, 1.0], 'bug_available': [1, 1], 'bug_density': [b0, b0]}\n",
    "        for i in range(dilute_to_steady):\n",
    "            system = dilute(system, s1, s2)\n",
    "            system = move_to_new(system)\n",
    "        system = dilute(system, s1, s2)\n",
    "        pay1[s1, s2] = system['bug_density'][0]\n",
    "        pay2[s1, s2] = system['bug_density'][1]\n",
    "\n",
    "# find NE\n",
    "NE = []\n",
    "for s1 in range(Nl):\n",
    "    for s2 in range(Nl):             \n",
    "        if isNE(s1, s2, pay1, pay2) == True:\n",
    "            NE.append([s1, s2])"
   ]
  },
  {
   "cell_type": "code",
   "execution_count": 31,
   "metadata": {},
   "outputs": [
    {
     "data": {
      "text/plain": [
       "{'res_available': [0, 0],\n",
       " 'res_concentration': [-0.884273725657992, 8.499901202807079e-10],\n",
       " 'bug_available': [1, 1],\n",
       " 'bug_density': [0.941950476227385, 0.07864458719606757]}"
      ]
     },
     "execution_count": 31,
     "metadata": {},
     "output_type": "execute_result"
    }
   ],
   "source": [
    "system = {'res_available': [1, 1], 'res_concentration': [1.0, 1.0], 'bug_available': [1, 1], 'bug_density': [b0, b0]}\n",
    "system = dilute(system, 0, 0)\n",
    "system"
   ]
  },
  {
   "cell_type": "code",
   "execution_count": 36,
   "metadata": {},
   "outputs": [
    {
     "data": {
      "text/plain": [
       "array([[4.60391516, 3.16380169],\n",
       "       [2.54149674, 4.42412363]])"
      ]
     },
     "execution_count": 36,
     "metadata": {},
     "output_type": "execute_result"
    }
   ],
   "source": [
    "growth_rate_list"
   ]
  },
  {
   "cell_type": "code",
   "execution_count": 35,
   "metadata": {},
   "outputs": [
    {
     "data": {
      "text/plain": [
       "[[0, 1]]"
      ]
     },
     "execution_count": 35,
     "metadata": {},
     "output_type": "execute_result"
    }
   ],
   "source": [
    "NE"
   ]
  },
  {
   "cell_type": "code",
   "execution_count": 33,
   "metadata": {},
   "outputs": [
    {
     "data": {
      "text/plain": [
       "array([[1.000001  , 0.83382907],\n",
       "       [1.000001  , 0.        ]])"
      ]
     },
     "execution_count": 33,
     "metadata": {},
     "output_type": "execute_result"
    }
   ],
   "source": [
    "pay1"
   ]
  },
  {
   "cell_type": "code",
   "execution_count": 34,
   "metadata": {},
   "outputs": [
    {
     "data": {
      "text/plain": [
       "array([[0.        , 0.39669544],\n",
       "       [0.        , 1.6027205 ]])"
      ]
     },
     "execution_count": 34,
     "metadata": {},
     "output_type": "execute_result"
    }
   ],
   "source": [
    "pay2"
   ]
  },
  {
   "cell_type": "markdown",
   "metadata": {},
   "source": [
    "The above is the case for 2 species. Now try 3 species and 3 resources. "
   ]
  },
  {
   "cell_type": "code",
   "execution_count": 186,
   "metadata": {},
   "outputs": [],
   "source": [
    "# initialization\n",
    "\n",
    "import numpy as np\n",
    "import math\n",
    "import random\n",
    "import itertools\n",
    "from scipy.optimize import root, fsolve\n",
    "import copy\n",
    "import time\n",
    "\n",
    "Res = [1.0, 1.0, 1.0]\n",
    "Nr = 3\n",
    "Nb = Nr\n",
    "Nl = math.factorial(Nr)\n",
    "g_mean, g_var = 1, 0.2\n",
    "#growth_rate_list = np.exp(np.random.normal(g_mean, math.sqrt(g_var), (Nb, Nr)))\n",
    "growth_rate_list = [np.array([9.20247937, 2.12018593, 1.08945719]),\n",
    "  np.array([2.25233966, 8.45170172, 1.88723342]),\n",
    "  np.array([4.78820702, 1.51485071, 9.48018625])]\n",
    "filt = np.heaviside(growth_rate_list, 0)\n",
    "growth_rate_list = filt*growth_rate_list\n",
    "#preference list\n",
    "preference_list = list(itertools.permutations(range(Nr), Nr))\n",
    "b0 = 1e-3 # density of bug when introduced/initial\n",
    "b_threshold = 1e-6 # extinction density\n",
    "c_threshold = 1e-9 # concentration threshold\n",
    "# yields\n",
    "yields_list = 0.5*np.ones([Nb, Nr]) # might need to be modified later?\n",
    "\n",
    "# dilution parameters \n",
    "D = 1e-3\n",
    "tau = 0 # lag\n",
    "T_dilute = 10 # time interval between dilutions\n",
    "dilute_to_steady = 10 # #(dilution) between invasions"
   ]
  },
  {
   "cell_type": "code",
   "execution_count": 200,
   "metadata": {},
   "outputs": [],
   "source": [
    "def dilute(system, s1, s2, s3): \n",
    "    pref_list = [preference_list[s1], preference_list[s2], preference_list[s3]]\n",
    "    t_switch = 0\n",
    "    while t_switch < T_dilute:\n",
    "        #list of resource in use for each consumer\n",
    "        use = [0 for i in range(Nb)]\n",
    "        # list of consumers for each resource\n",
    "        consumer = [[] for i in range(Nr)]\n",
    "        for i in range(Nb):\n",
    "            # if all are depleted, bug still uses its least preferred nutrient\n",
    "            while system['res_available'][pref_list[i][use[i]]] < 1 and use[i] < Nr - 1:\n",
    "                use[i] = use[i] + 1\n",
    "            if system['bug_available'][i] > 0:\n",
    "                consumer[pref_list[i][use[i]]].append(i)\n",
    "        # find the earliest depleted resource\n",
    "        t_dep = T_dilute - t_switch\n",
    "        for i in range(Nr):\n",
    "            if system['res_available'][i] > 0:\n",
    "                def remain(t):  \n",
    "                    # S = c - sum(B0(e^gt-1)/Y)   \n",
    "                    return system['res_concentration'][i] - sum([system['bug_density'][j]*(math.exp(t*growth_rate_list[j][i]) - 1)/yields_list[j][i] for j in consumer[i]])\n",
    "                # a little bit tricky here...\n",
    "                t_i = root(remain, T_dilute + 1).x[0]\n",
    "                if t_i < t_dep:\n",
    "                    t_dep = t_i\n",
    "        # update the system according to this t_dep\n",
    "        t_switch = t_switch + t_dep\n",
    "        temp_bug_density = [i for i in system['bug_density']]\n",
    "        for i in range(Nb):\n",
    "            if system['res_available'][pref_list[i][use[i]]] > 0:\n",
    "                temp_bug_density[i] = system['bug_density'][i]*math.exp(growth_rate_list[i][pref_list[i][use[i]]]*t_dep)\n",
    "        for i in range(Nr):\n",
    "            if system['res_available'][i] > 0:\n",
    "                system['res_concentration'][i] = system['res_concentration'][i] - sum([system['bug_density'][j]*(math.exp(t_dep*growth_rate_list[j][i]) - 1)/yields_list[j][i] for j in consumer[i]])\n",
    "                #print(system['res_concentration'])\n",
    "                if system['res_concentration'][i] < c_threshold: \n",
    "                    system['res_available'][i] = 0\n",
    "        for i in range(Nb):\n",
    "            system['bug_density'][i] = temp_bug_density[i]\n",
    "    #print(system)\n",
    "    #print(\"diluted once\")\n",
    "    return system\n",
    "        \n",
    "def move_to_new(system):\n",
    "    system['bug_density'] = [(i*D > b_threshold)*i*D for i in system['bug_density']]\n",
    "    system['bug_available'] = [1*(system['bug_density'][i] > b_threshold) for i in range(Nb)]\n",
    "    system['res_concentration'] = [(system['res_concentration'][i]*D + Res[i]) / (D + 1) for i in range(Nr)]\n",
    "    system['res_available'] = [1*(system['res_concentration'][i] > c_threshold) for i in range(Nr)]\n",
    "    return system\n",
    "\n",
    "def isNE(s1, s2, s3, pay1, pay2, pay3):\n",
    "    for i in range(Nl):\n",
    "        if pay1[i, s2, s3] > pay1[s1, s2, s3]: return False\n",
    "    for i in range(Nl):\n",
    "        if pay2[s1, i, s3] > pay2[s1, s2, s3]: return False\n",
    "    for i in range(Nl):\n",
    "        if pay3[s1, s2, i] > pay3[s1, s2, s3]: return False\n",
    "    return True\n",
    "\n",
    "def test(growth_rate_list, system, s1, s2, s3):\n",
    "    for i in range(dilute_to_steady):\n",
    "        system = dilute(system, s1, s2, s3)\n",
    "        system = move_to_new(system)\n",
    "    system = dilute(system, s1, s2, s3)\n",
    "    return system"
   ]
  },
  {
   "cell_type": "code",
   "execution_count": 201,
   "metadata": {},
   "outputs": [
    {
     "name": "stdout",
     "output_type": "stream",
     "text": [
      "check\n",
      "check\n",
      "check\n",
      "check\n",
      "check\n",
      "check\n",
      "check\n",
      "check\n",
      "check\n",
      "check\n",
      "check\n",
      "check\n",
      "check\n",
      "check\n",
      "check\n",
      "check\n",
      "check\n",
      "check\n",
      "check\n",
      "check\n",
      "check\n",
      "check\n",
      "check\n",
      "check\n",
      "check\n",
      "check\n",
      "check\n",
      "check\n",
      "check\n",
      "check\n",
      "check\n",
      "check\n",
      "check\n",
      "check\n",
      "check\n",
      "check\n",
      "7.748397588729858\n"
     ]
    }
   ],
   "source": [
    "# generate the matrices\n",
    "start = time.time()\n",
    "\n",
    "pay1 = np.zeros((Nl, Nl, Nl))\n",
    "pay2 = np.zeros((Nl, Nl, Nl))\n",
    "pay3 = np.zeros((Nl, Nl, Nl))\n",
    "for s1 in range(Nl):\n",
    "    for s2 in range(Nl):\n",
    "        print('check')\n",
    "        for s3 in range(Nl):\n",
    "            system = {'res_available': [1, 1, 1], 'res_concentration': [1.0, 1.0, 1.0], 'bug_available': [1, 1, 1], 'bug_density': [b0, b0, b0]}\n",
    "            system = test(growth_rate_list, system, s1, s2, s3)\n",
    "            pay1[s1, s2, s3] = system['bug_density'][0]\n",
    "            pay2[s1, s2, s3] = system['bug_density'][1]\n",
    "            pay3[s1, s2, s3] = system['bug_density'][2]\n",
    "\n",
    "# find NE\n",
    "NE = []\n",
    "for s1 in range(Nl):\n",
    "    for s2 in range(Nl):    \n",
    "        for s3 in range(Nl):\n",
    "            if isNE(s1, s2, s3, pay1, pay2, pay3) == True:\n",
    "                NE.append([s1, s2, s3])\n",
    "                \n",
    "end = time.time()\n",
    "print(end-start)"
   ]
  },
  {
   "cell_type": "code",
   "execution_count": 202,
   "metadata": {},
   "outputs": [
    {
     "data": {
      "text/plain": [
       "array([[9.20247937, 2.12018593, 1.08945719],\n",
       "       [2.25233966, 8.45170172, 1.88723342],\n",
       "       [4.78820702, 1.51485071, 9.48018625]])"
      ]
     },
     "execution_count": 202,
     "metadata": {},
     "output_type": "execute_result"
    }
   ],
   "source": [
    "growth_rate_list"
   ]
  },
  {
   "cell_type": "code",
   "execution_count": 208,
   "metadata": {},
   "outputs": [
    {
     "data": {
      "text/plain": [
       "{'res_available': [0, 0, 0],\n",
       " 'res_concentration': [-7.216449660063518e-16, 0.0, -1.3100631690576847e-14],\n",
       " 'bug_available': [1, 1, 1],\n",
       " 'bug_density': [0.5028159191525747, 0.33340695305350226, 0.6637786277954301]}"
      ]
     },
     "execution_count": 208,
     "metadata": {},
     "output_type": "execute_result"
    }
   ],
   "source": [
    "system = {'res_available': [1, 1, 1], 'res_concentration': [1.0, 1.0, 1.0], 'bug_available': [1, 1, 1], 'bug_density': [b0, b0, b0]}\n",
    "system = test(growth_rate_list, system, 0, 3, 4)\n",
    "system"
   ]
  },
  {
   "cell_type": "code",
   "execution_count": 204,
   "metadata": {},
   "outputs": [
    {
     "data": {
      "text/plain": [
       "[[0, 2, 4], [0, 3, 4], [1, 2, 4], [1, 3, 4]]"
      ]
     },
     "execution_count": 204,
     "metadata": {},
     "output_type": "execute_result"
    }
   ],
   "source": [
    "NE"
   ]
  },
  {
   "cell_type": "code",
   "execution_count": 149,
   "metadata": {},
   "outputs": [
    {
     "data": {
      "text/plain": [
       "{'res_available': [0, 0, 0],\n",
       " 'res_concentration': [2.220446049250313e-16,\n",
       "  -1.1102230246251565e-16,\n",
       "  -3.1308289294429414e-14],\n",
       " 'bug_available': [1, 0, 0],\n",
       " 'bug_density': [1.5000015000015159, 0.0, 0.0]}"
      ]
     },
     "execution_count": 149,
     "metadata": {},
     "output_type": "execute_result"
    }
   ],
   "source": [
    "system = move_to_new(system)\n",
    "system = dilute(system, 0, 1, 3)\n",
    "system"
   ]
  },
  {
   "cell_type": "code",
   "execution_count": 122,
   "metadata": {},
   "outputs": [
    {
     "data": {
      "text/plain": [
       "{'res_available': [1, 1, 1],\n",
       " 'res_concentration': [0.9981952201378186,\n",
       "  0.9990009990015898,\n",
       "  0.9988575397651553],\n",
       " 'bug_available': [0, 1, 0],\n",
       " 'bug_density': [0.0, 0.002684614521340522, 0.0]}"
      ]
     },
     "execution_count": 122,
     "metadata": {},
     "output_type": "execute_result"
    }
   ],
   "source": [
    "system = move_to_new(system)\n",
    "system"
   ]
  },
  {
   "cell_type": "code",
   "execution_count": 163,
   "metadata": {},
   "outputs": [
    {
     "data": {
      "text/plain": [
       "[(0, 1, 2), (0, 2, 1), (1, 0, 2), (1, 2, 0), (2, 0, 1), (2, 1, 0)]"
      ]
     },
     "execution_count": 163,
     "metadata": {},
     "output_type": "execute_result"
    }
   ],
   "source": [
    "preference_list"
   ]
  },
  {
   "cell_type": "code",
   "execution_count": null,
   "metadata": {},
   "outputs": [],
   "source": []
  }
 ],
 "metadata": {
  "kernelspec": {
   "display_name": "Python 3",
   "language": "python",
   "name": "python3"
  },
  "language_info": {
   "codemirror_mode": {
    "name": "ipython",
    "version": 3
   },
   "file_extension": ".py",
   "mimetype": "text/x-python",
   "name": "python",
   "nbconvert_exporter": "python",
   "pygments_lexer": "ipython3",
   "version": "3.6.5"
  }
 },
 "nbformat": 4,
 "nbformat_minor": 2
}
