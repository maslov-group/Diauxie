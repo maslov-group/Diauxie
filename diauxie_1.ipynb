{
 "cells": [
  {
   "cell_type": "markdown",
   "metadata": {},
   "source": [
    "Outline of simulations:\n",
    "- generate all possible resource preference lists\n",
    "    \n",
    "- generate growth rates for each resource for each species (draw them from a normal distribution, to avoid super-bug and extreme specialists)\n",
    "- pick resource concentrations (start with equal case 1:1, then test 2:1 etc.)\n",
    "- perform species invasions from the pool until the uninvadable state is reached via dynamic simulations\n",
    "- keep track of invasion events, so we'll be able to plot diversity w/ time, complementarity w/ time, etc.\n",
    "\n",
    "How to do serial dilution computation - perform stepwise estimation for resource usage:\n",
    "- start with $B_0$ and $C_0$, get equations for each resource, solve for T\n",
    "- compare T of resource depletion\n",
    "- pick the smallest time, switch resources\n",
    "- update bacterial abundances and resource concentrations\n",
    "- continue until end of dilution cycle reached/all resources depleted\n",
    "- every bacteria, with population below the threshold (e.g. $10^{-5}$) is doomed to be extinct\n",
    "- the steady state should be reached in 5-10 dilution cycles\n",
    "- make sure that any leftovers of the resources, that are unused by the end of the cycle are added to the new one with the same dilution factor as bacterial abundances (it's important for the low dilution case)\n",
    "\n",
    "List of questions\n",
    "- what is the optimal diauxic strategy?\n",
    "- we expect to get a set of microbes with a complementary growth strategies in the end. Is it true?\n",
    "- is it true that unequal resource supply will change the winning strategy?\n"
   ]
  },
  {
   "cell_type": "code",
   "execution_count": 394,
   "metadata": {},
   "outputs": [],
   "source": [
    "# initialization\n",
    "\n",
    "import numpy as np\n",
    "import math\n",
    "import random\n",
    "import itertools\n",
    "from scipy.optimize import root\n",
    "import copy\n",
    "import time\n",
    "# set resource number and amount\n",
    "Nr = 3\n",
    "Res = [1.0, 1.0, 1.0]\n",
    "\n",
    "# generate species pool: growth rate from gaussian; preference list; invasion order\n",
    "# growth rates\n",
    "Size = 20 # number of samples from each species\n",
    "Nb = math.factorial(Nr)*Size\n",
    "g_mean, g_var = 2, 0.5\n",
    "growth_rate_list = np.random.normal(g_mean, math.sqrt(g_var), (Nb, Nr))\n",
    "filt = np.heaviside(growth_rate_list, 0)\n",
    "growth_rate_list = filt*growth_rate_list\n",
    "#preference list\n",
    "preference_list = list(itertools.permutations(range(Nr), Nr))\n",
    "b0 = 1e-3 # density of bug when introduced/initial\n",
    "b_threshold = 1e-6 # extinction density\n",
    "c_threshold = 1e-9 # concentration threshold\n",
    "# invasion order\n",
    "invasion_list = list(range(Nb))\n",
    "random.shuffle(invasion_list)\n",
    "# yields\n",
    "yields_list = 0.5*np.ones([Nb, Nr]) # might need to be modified later?\n",
    "\n",
    "# dilution parameters \n",
    "D = 1e-3\n",
    "tau = 0 # lag\n",
    "T_dilute = 10 # time interval between dilutions\n",
    "dilute_to_steady = 10 # #(dilution) between invasions"
   ]
  },
  {
   "cell_type": "code",
   "execution_count": 395,
   "metadata": {},
   "outputs": [],
   "source": [
    "def dilute(system): \n",
    "    global t_system\n",
    "    t_switch = 0\n",
    "    while t_switch < T_dilute:\n",
    "        #list of resource in use for each consumer\n",
    "        use = [0 for i in range(Nb)]\n",
    "        # list of consumers for each resource\n",
    "        consumer = [[] for i in range(Nr)]\n",
    "        for i in range(Nb):\n",
    "            # if all are depleted, bug still uses its least preferred nutrient\n",
    "            while system['res_available'][preference_list[i//Size][use[i]]] < 1 and use[i] < Nr - 1:\n",
    "                use[i] = use[i] + 1\n",
    "            if system['bug_available'][i] > 0:\n",
    "                consumer[preference_list[i//Size][use[i]]].append(i)\n",
    "        # find the earliest depleted resource\n",
    "        t_dep = T_dilute - t_switch\n",
    "        for i in range(Nr):\n",
    "            if system['res_available'][i] > 0:\n",
    "                def remain(t):  \n",
    "                    # S = c - sum(B0(e^gt-1)/Y)                \n",
    "                    return system['res_concentration'][i] - sum([system['bug_density'][j]*(math.exp(t*growth_rate_list[j][i]) - 1)/yields_list[j][i] for j in consumer[i]])\n",
    "                # a little bit tricky here...\n",
    "                t_i = root(remain, T_dilute + 1).x[0]\n",
    "                if t_i < t_dep:\n",
    "                    t_dep = t_i\n",
    "        # update the system according to this t_dep\n",
    "        t_switch = t_switch + t_dep\n",
    "        temp_bug_density = [i for i in system['bug_density']]\n",
    "        for i in range(Nb):\n",
    "            if system['res_available'][preference_list[i//Size][use[i]]] > 0:\n",
    "                temp_bug_density[i] = system['bug_density'][i]*math.exp(growth_rate_list[i][preference_list[i//Size][use[i]]]*t_dep)\n",
    "        for i in range(Nr):\n",
    "            if system['res_available'][i] > 0:\n",
    "                system['res_concentration'][i] = system['res_concentration'][i] - sum([system['bug_density'][j]*(math.exp(t_dep*growth_rate_list[j][i]) - 1)/yields_list[j][i] for j in consumer[i]])\n",
    "                if system['res_concentration'][i] < c_threshold: \n",
    "                    system['res_available'][i] = 0\n",
    "        for i in range(Nb):\n",
    "            system['bug_density'][i] = temp_bug_density[i]\n",
    "    #print(system)\n",
    "    system_copy = copy.deepcopy(system)\n",
    "    t_system.append(system_copy)\n",
    "    #print(\"diluted once\")\n",
    "    return system\n",
    "\n",
    "def dilute_check(system):\n",
    "    t_points = []\n",
    "    c_points = []\n",
    "    global t_system\n",
    "    t_switch = 0\n",
    "    t_points.append(t_switch)\n",
    "    survivors, concent, pref_list, growth = output(system)\n",
    "    c_points.append(concent)\n",
    "    while t_switch < T_dilute:\n",
    "        #list of resource in use for each consumer\n",
    "        use = [0 for i in range(Nb)]\n",
    "        # list of consumers for each resource\n",
    "        consumer = [[] for i in range(Nr)]\n",
    "        for i in range(Nb):\n",
    "            # if all are depleted, bug still uses its least preferred nutrient\n",
    "            while system['res_available'][preference_list[i//Size][use[i]]] < 1 and use[i] < Nr - 1:\n",
    "                use[i] = use[i] + 1\n",
    "            if system['bug_available'][i] > 0:\n",
    "                consumer[preference_list[i//Size][use[i]]].append(i)\n",
    "        # find the earliest depleted resource\n",
    "        t_dep = T_dilute - t_switch\n",
    "        for i in range(Nr):\n",
    "            if system['res_available'][i] > 0:\n",
    "                def remain(t):  \n",
    "                    # S = c - sum(B0(e^gt-1)/Y)                \n",
    "                    return system['res_concentration'][i] - sum([system['bug_density'][j]*(math.exp(t*growth_rate_list[j][i]) - 1)/yields_list[j][i] for j in consumer[i]])\n",
    "                # a little bit tricky here...\n",
    "                t_i = root(remain, T_dilute + 1).x[0]\n",
    "                if t_i < t_dep:\n",
    "                    t_dep = t_i\n",
    "        # update the system according to this t_dep\n",
    "        t_switch = t_switch + t_dep\n",
    "        temp_bug_density = [i for i in system['bug_density']]\n",
    "        for i in range(Nb):\n",
    "            if system['res_available'][preference_list[i//Size][use[i]]] > 0:\n",
    "                temp_bug_density[i] = system['bug_density'][i]*math.exp(growth_rate_list[i][preference_list[i//Size][use[i]]]*t_dep)\n",
    "        for i in range(Nr):\n",
    "            if system['res_available'][i] > 0:\n",
    "                system['res_concentration'][i] = system['res_concentration'][i] - sum([system['bug_density'][j]*(math.exp(t_dep*growth_rate_list[j][i]) - 1)/yields_list[j][i] for j in consumer[i]])\n",
    "                if system['res_concentration'][i] < c_threshold: \n",
    "                    system['res_available'][i] = 0\n",
    "        for i in range(Nb):\n",
    "            system['bug_density'][i] = temp_bug_density[i]\n",
    "        t_points.append(t_switch)\n",
    "        survivors, concent, pref_list, growth = output(system)\n",
    "        c_points.append(concent)\n",
    "    #print(system)\n",
    "    system_copy = copy.deepcopy(system)\n",
    "    t_system.append(system_copy)\n",
    "    #print(\"diluted once\")\n",
    "    return system, t_points, c_points\n",
    "        \n",
    "def move_to_new(system):\n",
    "    system['bug_density'] = [(i*D > b_threshold)*i*D for i in system['bug_density']]\n",
    "    system['bug_available'] = [1*(system['bug_density'][i] > b_threshold) for i in range(Nb)]\n",
    "    system['res_concentration'] = [(system['res_concentration'][i]*D + Res[i]) / (D + 1) for i in range(Nr)]\n",
    "    system['res_available'] = [1*(system['res_concentration'][i] > c_threshold) for i in range(Nr)]\n",
    "    return system\n",
    "\n",
    "def invade(system, bug):\n",
    "    #print(\"one invasion\")\n",
    "    # (starting from a new flask)\n",
    "    # then add invasive species\n",
    "    system['bug_available'][bug] = 1\n",
    "    system['bug_density'][bug] = b0\n",
    "    # then dilute till steady\n",
    "    for i in range(dilute_to_steady):\n",
    "        system = dilute(system)\n",
    "        # move to a new flask\n",
    "        system = move_to_new(system)\n",
    "        \n",
    "    ext_list = [i for i, v in enumerate(system['bug_available']) if v==0]\n",
    "    return system, ext_list\n",
    "    \n",
    "def round_robin_invade(system, ext_list):\n",
    "    for bug in ext_list:\n",
    "        system, new_ext_list = invade(system, bug)\n",
    "    return system, new_ext_list\n",
    "\n",
    "def output(system):\n",
    "    survivors = [i for i, v in enumerate(system['bug_available']) if v != 0]\n",
    "    pref_list = []\n",
    "    concent = []\n",
    "    growth = []\n",
    "    for i in survivors:\n",
    "        pref_list.append(preference_list[i//Size])\n",
    "        concent.append(system['bug_density'][i])\n",
    "        growth.append(growth_rate_list[i])\n",
    "    return survivors, concent, pref_list, growth"
   ]
  },
  {
   "cell_type": "code",
   "execution_count": 413,
   "metadata": {},
   "outputs": [
    {
     "name": "stdout",
     "output_type": "stream",
     "text": [
      "[66, 41, 23, 119, 35, 28, 24, 113, 31, 77, 99, 2, 68, 67, 117, 63, 38, 65, 84, 92, 13, 111, 96, 116, 102, 59, 79, 56, 82, 85, 48, 5, 46, 89, 58, 98, 3, 104, 74, 90, 88, 9, 55, 106, 70, 50, 44, 42, 16, 94, 100, 73, 53, 76, 15, 107, 49, 51, 20, 95, 64, 86, 71, 61, 8, 72, 115, 29, 26, 18, 25, 78, 27, 10, 21, 80, 0, 103, 22, 4, 45, 19, 11, 57, 114, 17, 12, 32, 81, 47, 83, 14, 37, 34, 101, 6, 60, 110, 43, 69, 30, 52, 108, 54, 87, 93, 105, 112, 91, 118, 36, 97, 33, 75, 7, 62, 109, 40, 39, 1]\n",
      "[27, 78, 98]\n",
      "[27, 78, 98, 104]\n",
      "47.21806311607361\n"
     ]
    }
   ],
   "source": [
    "# simulation\n",
    "start = time.time()\n",
    "Res_copy = [i for i in Res]\n",
    "system = {'res_available': np.heaviside(Res, 0), 'res_concentration': Res_copy, 'bug_available': [0 for i in range(Nb)], 'bug_density': [0 for i in range(Nb)]} \n",
    "t_system = [system] # snapshots of systems at the end of each dilution\n",
    "# ext_list: list of bugs not in the community\n",
    "old_ext_list = invasion_list\n",
    "print(old_ext_list)\n",
    "system, new_ext_list = round_robin_invade(system, old_ext_list)\n",
    "count = 0\n",
    "while new_ext_list != old_ext_list and count < 100:\n",
    "    old_ext_list = new_ext_list\n",
    "    survivors, concent, pref_list, growth = output(system)\n",
    "    print(survivors)\n",
    "    system, new_ext_list = round_robin_invade(system, old_ext_list)\n",
    "    count = count + 1\n",
    "end = time.time()\n",
    "print(end - start)"
   ]
  },
  {
   "cell_type": "code",
   "execution_count": 397,
   "metadata": {},
   "outputs": [
    {
     "data": {
      "text/plain": [
       "([27, 78, 98, 104],\n",
       " [0.00016412383213447454,\n",
       "  0.0012882353990605702,\n",
       "  5.967659830992739e-06,\n",
       "  4.167460897546464e-05],\n",
       " [(0, 2, 1), (1, 2, 0), (2, 0, 1), (2, 1, 0)],\n",
       " [array([3.49147514, 2.27693312, 1.76192566]),\n",
       "  array([1.87806708, 4.43660855, 1.36557932]),\n",
       "  array([2.91408928, 2.54732821, 3.54086878]),\n",
       "  array([1.85957116, 1.38519304, 3.63244828])])"
      ]
     },
     "execution_count": 397,
     "metadata": {},
     "output_type": "execute_result"
    }
   ],
   "source": [
    "output(system)"
   ]
  },
  {
   "cell_type": "code",
   "execution_count": 414,
   "metadata": {},
   "outputs": [],
   "source": [
    "system=dilute(system)"
   ]
  },
  {
   "cell_type": "code",
   "execution_count": 415,
   "metadata": {},
   "outputs": [
    {
     "data": {
      "text/plain": [
       "[0, 1.344034908341034, 1.8242965756520968, 1.9781462615304768, 10.0]"
      ]
     },
     "execution_count": 415,
     "metadata": {},
     "output_type": "execute_result"
    }
   ],
   "source": [
    "system = move_to_new(system)\n",
    "system, t_points, c_points = dilute_check(system)\n",
    "t_points"
   ]
  },
  {
   "cell_type": "code",
   "execution_count": 400,
   "metadata": {},
   "outputs": [
    {
     "data": {
      "text/plain": [
       "[[0.00016396152758457334,\n",
       "  0.0012881762338363342,\n",
       "  5.969662785523177e-06,\n",
       "  4.189407579507145e-05],\n",
       " [0.01789535178798329,\n",
       "  0.5007886757343373,\n",
       "  0.000696272905086035,\n",
       "  0.005526343792554941],\n",
       " [0.09571381776860276,\n",
       "  0.9648953113470169,\n",
       "  0.0038134334602607433,\n",
       "  0.031628294166139846],\n",
       " [0.16378015787590902,\n",
       "  1.288146497227982,\n",
       "  0.005970685077699374,\n",
       "  0.04210415981991128],\n",
       " [0.16378015787590902,\n",
       "  1.288146497227982,\n",
       "  0.005970685077699374,\n",
       "  0.04210415981991128]]"
      ]
     },
     "execution_count": 400,
     "metadata": {},
     "output_type": "execute_result"
    }
   ],
   "source": [
    "c_points"
   ]
  },
  {
   "cell_type": "code",
   "execution_count": 416,
   "metadata": {},
   "outputs": [
    {
     "data": {
      "text/plain": [
       "[<matplotlib.lines.Line2D at 0x1f5bf1044a8>]"
      ]
     },
     "execution_count": 416,
     "metadata": {},
     "output_type": "execute_result"
    },
    {
     "data": {
      "image/png": "[encoded data removed]",
      "text/plain": [
       "<Figure size 432x288 with 1 Axes>"
      ]
     },
     "metadata": {},
     "output_type": "display_data"
    }
   ],
   "source": [
    "import matplotlib.pyplot as plt\n",
    "plt.plot(t_points, [math.log(i[0]) for i in c_points])\n",
    "plt.plot(t_points, [math.log(i[1]) for i in c_points])\n",
    "plt.plot(t_points, [math.log(i[2]) for i in c_points])\n",
    "plt.plot(t_points, [math.log(i[3]) for i in c_points])"
   ]
  },
  {
   "cell_type": "code",
   "execution_count": 125,
   "metadata": {},
   "outputs": [
    {
     "data": {
      "text/plain": [
       "array([2.30809939, 2.15418773, 3.00534785])"
      ]
     },
     "execution_count": 125,
     "metadata": {},
     "output_type": "execute_result"
    }
   ],
   "source": [
    "growth_rate_list[49]"
   ]
  },
  {
   "cell_type": "code",
   "execution_count": 247,
   "metadata": {},
   "outputs": [
    {
     "name": "stdout",
     "output_type": "stream",
     "text": [
      "[35, 33, 9, 36, 28, 21, 12, 3, 24, 16, 19, 5, 11, 0, 25, 15, 13, 8, 17, 29, 4, 23, 34, 37, 1, 22, 14, 27, 26, 2, 32, 10, 39, 38, 31, 6, 30, 18, 7, 20]\n",
      "[13]\n",
      "[13, 37]\n",
      "[13]\n",
      "[13, 37]\n",
      "[13]\n"
     ]
    },
    {
     "ename": "KeyboardInterrupt",
     "evalue": "",
     "output_type": "error",
     "traceback": [
      "\u001b[1;31m---------------------------------------------------------------------------\u001b[0m",
      "\u001b[1;31mKeyboardInterrupt\u001b[0m                         Traceback (most recent call last)",
      "\u001b[1;32m<ipython-input-247-16bcf51f1b30>\u001b[0m in \u001b[0;36m<module>\u001b[1;34m()\u001b[0m\n\u001b[0;32m    183\u001b[0m     \u001b[0msurvivors\u001b[0m\u001b[1;33m,\u001b[0m \u001b[0mconcent\u001b[0m\u001b[1;33m,\u001b[0m \u001b[0mpref_list\u001b[0m\u001b[1;33m,\u001b[0m \u001b[0mgrowth\u001b[0m \u001b[1;33m=\u001b[0m \u001b[0moutput\u001b[0m\u001b[1;33m(\u001b[0m\u001b[0msystem\u001b[0m\u001b[1;33m)\u001b[0m\u001b[1;33m\u001b[0m\u001b[0m\n\u001b[0;32m    184\u001b[0m     \u001b[0mprint\u001b[0m\u001b[1;33m(\u001b[0m\u001b[0msurvivors\u001b[0m\u001b[1;33m)\u001b[0m\u001b[1;33m\u001b[0m\u001b[0m\n\u001b[1;32m--> 185\u001b[1;33m     \u001b[0msystem\u001b[0m\u001b[1;33m,\u001b[0m \u001b[0mnew_ext_list\u001b[0m \u001b[1;33m=\u001b[0m \u001b[0mround_robin_invade\u001b[0m\u001b[1;33m(\u001b[0m\u001b[0msystem\u001b[0m\u001b[1;33m,\u001b[0m \u001b[0mold_ext_list\u001b[0m\u001b[1;33m)\u001b[0m\u001b[1;33m\u001b[0m\u001b[0m\n\u001b[0m\u001b[0;32m    186\u001b[0m     \u001b[0mcount\u001b[0m \u001b[1;33m=\u001b[0m \u001b[0mcount\u001b[0m \u001b[1;33m+\u001b[0m \u001b[1;36m1\u001b[0m\u001b[1;33m\u001b[0m\u001b[0m\n\u001b[0;32m    187\u001b[0m \u001b[0mend\u001b[0m \u001b[1;33m=\u001b[0m \u001b[0mtime\u001b[0m\u001b[1;33m.\u001b[0m\u001b[0mtime\u001b[0m\u001b[1;33m(\u001b[0m\u001b[1;33m)\u001b[0m\u001b[1;33m\u001b[0m\u001b[0m\n",
      "\u001b[1;32m<ipython-input-247-16bcf51f1b30>\u001b[0m in \u001b[0;36mround_robin_invade\u001b[1;34m(system, ext_list)\u001b[0m\n\u001b[0;32m    155\u001b[0m \u001b[1;32mdef\u001b[0m \u001b[0mround_robin_invade\u001b[0m\u001b[1;33m(\u001b[0m\u001b[0msystem\u001b[0m\u001b[1;33m,\u001b[0m \u001b[0mext_list\u001b[0m\u001b[1;33m)\u001b[0m\u001b[1;33m:\u001b[0m\u001b[1;33m\u001b[0m\u001b[0m\n\u001b[0;32m    156\u001b[0m     \u001b[1;32mfor\u001b[0m \u001b[0mbug\u001b[0m \u001b[1;32min\u001b[0m \u001b[0mext_list\u001b[0m\u001b[1;33m:\u001b[0m\u001b[1;33m\u001b[0m\u001b[0m\n\u001b[1;32m--> 157\u001b[1;33m         \u001b[0msystem\u001b[0m\u001b[1;33m,\u001b[0m \u001b[0mnew_ext_list\u001b[0m \u001b[1;33m=\u001b[0m \u001b[0minvade\u001b[0m\u001b[1;33m(\u001b[0m\u001b[0msystem\u001b[0m\u001b[1;33m,\u001b[0m \u001b[0mbug\u001b[0m\u001b[1;33m)\u001b[0m\u001b[1;33m\u001b[0m\u001b[0m\n\u001b[0m\u001b[0;32m    158\u001b[0m     \u001b[1;32mreturn\u001b[0m \u001b[0msystem\u001b[0m\u001b[1;33m,\u001b[0m \u001b[0mnew_ext_list\u001b[0m\u001b[1;33m\u001b[0m\u001b[0m\n\u001b[0;32m    159\u001b[0m \u001b[1;33m\u001b[0m\u001b[0m\n",
      "\u001b[1;32m<ipython-input-247-16bcf51f1b30>\u001b[0m in \u001b[0;36minvade\u001b[1;34m(system, bug)\u001b[0m\n\u001b[0;32m    144\u001b[0m     \u001b[1;31m# then dilute till steady\u001b[0m\u001b[1;33m\u001b[0m\u001b[1;33m\u001b[0m\u001b[0m\n\u001b[0;32m    145\u001b[0m     \u001b[1;32mfor\u001b[0m \u001b[0mi\u001b[0m \u001b[1;32min\u001b[0m \u001b[0mrange\u001b[0m\u001b[1;33m(\u001b[0m\u001b[0mdilute_to_steady\u001b[0m\u001b[1;33m)\u001b[0m\u001b[1;33m:\u001b[0m\u001b[1;33m\u001b[0m\u001b[0m\n\u001b[1;32m--> 146\u001b[1;33m         \u001b[0msystem\u001b[0m \u001b[1;33m=\u001b[0m \u001b[0mdilute\u001b[0m\u001b[1;33m(\u001b[0m\u001b[0msystem\u001b[0m\u001b[1;33m)\u001b[0m\u001b[1;33m\u001b[0m\u001b[0m\n\u001b[0m\u001b[0;32m    147\u001b[0m         \u001b[1;31m# move to a new flask\u001b[0m\u001b[1;33m\u001b[0m\u001b[1;33m\u001b[0m\u001b[0m\n\u001b[0;32m    148\u001b[0m         \u001b[0msystem\u001b[0m \u001b[1;33m=\u001b[0m \u001b[0mmove_to_new\u001b[0m\u001b[1;33m(\u001b[0m\u001b[0msystem\u001b[0m\u001b[1;33m)\u001b[0m\u001b[1;33m\u001b[0m\u001b[0m\n",
      "\u001b[1;32m<ipython-input-247-16bcf51f1b30>\u001b[0m in \u001b[0;36mdilute\u001b[1;34m(system)\u001b[0m\n\u001b[0;32m     59\u001b[0m                     \u001b[1;32mreturn\u001b[0m \u001b[0msystem\u001b[0m\u001b[1;33m[\u001b[0m\u001b[1;34m'res_concentration'\u001b[0m\u001b[1;33m]\u001b[0m\u001b[1;33m[\u001b[0m\u001b[0mi\u001b[0m\u001b[1;33m]\u001b[0m \u001b[1;33m-\u001b[0m \u001b[0msum\u001b[0m\u001b[1;33m(\u001b[0m\u001b[1;33m[\u001b[0m\u001b[0msystem\u001b[0m\u001b[1;33m[\u001b[0m\u001b[1;34m'bug_density'\u001b[0m\u001b[1;33m]\u001b[0m\u001b[1;33m[\u001b[0m\u001b[0mj\u001b[0m\u001b[1;33m]\u001b[0m\u001b[1;33m*\u001b[0m\u001b[1;33m(\u001b[0m\u001b[0mmath\u001b[0m\u001b[1;33m.\u001b[0m\u001b[0mexp\u001b[0m\u001b[1;33m(\u001b[0m\u001b[0mt\u001b[0m\u001b[1;33m*\u001b[0m\u001b[0mgrowth_rate_list\u001b[0m\u001b[1;33m[\u001b[0m\u001b[0mj\u001b[0m\u001b[1;33m]\u001b[0m\u001b[1;33m[\u001b[0m\u001b[0mi\u001b[0m\u001b[1;33m]\u001b[0m\u001b[1;33m)\u001b[0m \u001b[1;33m-\u001b[0m \u001b[1;36m1\u001b[0m\u001b[1;33m)\u001b[0m\u001b[1;33m/\u001b[0m\u001b[0myields_list\u001b[0m\u001b[1;33m[\u001b[0m\u001b[0mj\u001b[0m\u001b[1;33m]\u001b[0m\u001b[1;33m[\u001b[0m\u001b[0mi\u001b[0m\u001b[1;33m]\u001b[0m \u001b[1;32mfor\u001b[0m \u001b[0mj\u001b[0m \u001b[1;32min\u001b[0m \u001b[0mconsumer\u001b[0m\u001b[1;33m[\u001b[0m\u001b[0mi\u001b[0m\u001b[1;33m]\u001b[0m\u001b[1;33m]\u001b[0m\u001b[1;33m)\u001b[0m\u001b[1;33m\u001b[0m\u001b[0m\n\u001b[0;32m     60\u001b[0m                 \u001b[1;31m# a little bit tricky here...\u001b[0m\u001b[1;33m\u001b[0m\u001b[1;33m\u001b[0m\u001b[0m\n\u001b[1;32m---> 61\u001b[1;33m                 \u001b[0mt_i\u001b[0m \u001b[1;33m=\u001b[0m \u001b[0mroot\u001b[0m\u001b[1;33m(\u001b[0m\u001b[0mremain\u001b[0m\u001b[1;33m,\u001b[0m \u001b[0mT_dilute\u001b[0m \u001b[1;33m+\u001b[0m \u001b[1;36m1\u001b[0m\u001b[1;33m)\u001b[0m\u001b[1;33m.\u001b[0m\u001b[0mx\u001b[0m\u001b[1;33m[\u001b[0m\u001b[1;36m0\u001b[0m\u001b[1;33m]\u001b[0m\u001b[1;33m\u001b[0m\u001b[0m\n\u001b[0m\u001b[0;32m     62\u001b[0m                 \u001b[1;32mif\u001b[0m \u001b[0mt_i\u001b[0m \u001b[1;33m<\u001b[0m \u001b[0mt_dep\u001b[0m\u001b[1;33m:\u001b[0m\u001b[1;33m\u001b[0m\u001b[0m\n\u001b[0;32m     63\u001b[0m                     \u001b[0mt_dep\u001b[0m \u001b[1;33m=\u001b[0m \u001b[0mt_i\u001b[0m\u001b[1;33m\u001b[0m\u001b[0m\n",
      "\u001b[1;32mC:\\ProgramData\\Anaconda3\\lib\\site-packages\\scipy\\optimize\\_root.py\u001b[0m in \u001b[0;36mroot\u001b[1;34m(fun, x0, args, method, jac, tol, callback, options)\u001b[0m\n\u001b[0;32m    185\u001b[0m \u001b[1;33m\u001b[0m\u001b[0m\n\u001b[0;32m    186\u001b[0m     \u001b[1;32mif\u001b[0m \u001b[0mmeth\u001b[0m \u001b[1;33m==\u001b[0m \u001b[1;34m'hybr'\u001b[0m\u001b[1;33m:\u001b[0m\u001b[1;33m\u001b[0m\u001b[0m\n\u001b[1;32m--> 187\u001b[1;33m         \u001b[0msol\u001b[0m \u001b[1;33m=\u001b[0m \u001b[0m_root_hybr\u001b[0m\u001b[1;33m(\u001b[0m\u001b[0mfun\u001b[0m\u001b[1;33m,\u001b[0m \u001b[0mx0\u001b[0m\u001b[1;33m,\u001b[0m \u001b[0margs\u001b[0m\u001b[1;33m=\u001b[0m\u001b[0margs\u001b[0m\u001b[1;33m,\u001b[0m \u001b[0mjac\u001b[0m\u001b[1;33m=\u001b[0m\u001b[0mjac\u001b[0m\u001b[1;33m,\u001b[0m \u001b[1;33m**\u001b[0m\u001b[0moptions\u001b[0m\u001b[1;33m)\u001b[0m\u001b[1;33m\u001b[0m\u001b[0m\n\u001b[0m\u001b[0;32m    188\u001b[0m     \u001b[1;32melif\u001b[0m \u001b[0mmeth\u001b[0m \u001b[1;33m==\u001b[0m \u001b[1;34m'lm'\u001b[0m\u001b[1;33m:\u001b[0m\u001b[1;33m\u001b[0m\u001b[0m\n\u001b[0;32m    189\u001b[0m         \u001b[0msol\u001b[0m \u001b[1;33m=\u001b[0m \u001b[0m_root_leastsq\u001b[0m\u001b[1;33m(\u001b[0m\u001b[0mfun\u001b[0m\u001b[1;33m,\u001b[0m \u001b[0mx0\u001b[0m\u001b[1;33m,\u001b[0m \u001b[0margs\u001b[0m\u001b[1;33m=\u001b[0m\u001b[0margs\u001b[0m\u001b[1;33m,\u001b[0m \u001b[0mjac\u001b[0m\u001b[1;33m=\u001b[0m\u001b[0mjac\u001b[0m\u001b[1;33m,\u001b[0m \u001b[1;33m**\u001b[0m\u001b[0moptions\u001b[0m\u001b[1;33m)\u001b[0m\u001b[1;33m\u001b[0m\u001b[0m\n",
      "\u001b[1;32mC:\\ProgramData\\Anaconda3\\lib\\site-packages\\scipy\\optimize\\minpack.py\u001b[0m in \u001b[0;36m_root_hybr\u001b[1;34m(func, x0, args, jac, col_deriv, xtol, maxfev, band, eps, factor, diag, **unknown_options)\u001b[0m\n\u001b[0;32m    208\u001b[0m     \u001b[0mepsfcn\u001b[0m \u001b[1;33m=\u001b[0m \u001b[0meps\u001b[0m\u001b[1;33m\u001b[0m\u001b[0m\n\u001b[0;32m    209\u001b[0m \u001b[1;33m\u001b[0m\u001b[0m\n\u001b[1;32m--> 210\u001b[1;33m     \u001b[0mx0\u001b[0m \u001b[1;33m=\u001b[0m \u001b[0masarray\u001b[0m\u001b[1;33m(\u001b[0m\u001b[0mx0\u001b[0m\u001b[1;33m)\u001b[0m\u001b[1;33m.\u001b[0m\u001b[0mflatten\u001b[0m\u001b[1;33m(\u001b[0m\u001b[1;33m)\u001b[0m\u001b[1;33m\u001b[0m\u001b[0m\n\u001b[0m\u001b[0;32m    211\u001b[0m     \u001b[0mn\u001b[0m \u001b[1;33m=\u001b[0m \u001b[0mlen\u001b[0m\u001b[1;33m(\u001b[0m\u001b[0mx0\u001b[0m\u001b[1;33m)\u001b[0m\u001b[1;33m\u001b[0m\u001b[0m\n\u001b[0;32m    212\u001b[0m     \u001b[1;32mif\u001b[0m \u001b[1;32mnot\u001b[0m \u001b[0misinstance\u001b[0m\u001b[1;33m(\u001b[0m\u001b[0margs\u001b[0m\u001b[1;33m,\u001b[0m \u001b[0mtuple\u001b[0m\u001b[1;33m)\u001b[0m\u001b[1;33m:\u001b[0m\u001b[1;33m\u001b[0m\u001b[0m\n",
      "\u001b[1;31mKeyboardInterrupt\u001b[0m: "
     ]
    }
   ],
   "source": [
    "# initialization\n",
    "\n",
    "import numpy as np\n",
    "import math\n",
    "import random\n",
    "import itertools\n",
    "from scipy.optimize import root\n",
    "import copy\n",
    "import time\n",
    "# set resource number and amount\n",
    "# Nr = 2\n",
    "# Res = [1.0, 1.0]\n",
    "\n",
    "# # generate species pool: growth rate from gaussian; preference list; invasion order\n",
    "# # growth rates\n",
    "# Size = 20 # number of samples from each species\n",
    "# Nb = math.factorial(Nr)*Size\n",
    "# g_mean, g_var = 2, 0.5\n",
    "# growth_rate_list = np.random.normal(g_mean, math.sqrt(g_var), (Nb, Nr))\n",
    "# filt = np.heaviside(growth_rate_list, 0)\n",
    "# growth_rate_list = filt*growth_rate_list\n",
    "# #preference list\n",
    "# preference_list = list(itertools.permutations(range(Nr), Nr))\n",
    "# b0 = 1e-3 # density of bug when introduced/initial\n",
    "# b_threshold = 1e-6 # extinction density\n",
    "# c_threshold = 1e-9 # concentration threshold\n",
    "# # invasion order\n",
    "# invasion_list = list(range(Nb))\n",
    "# random.shuffle(invasion_list)\n",
    "# # yields\n",
    "# yields_list = 0.5*np.ones([Nb, Nr]) # might need to be modified later?\n",
    "\n",
    "# # dilution parameters \n",
    "# D = 1e-3\n",
    "# tau = 0 # lag\n",
    "# T_dilute = 10 # time interval between dilutions\n",
    "dilute_to_steady = 30 # #(dilution) between invasions\n",
    "\n",
    "def dilute(system): \n",
    "    global t_system\n",
    "    t_switch = 0\n",
    "    while t_switch < T_dilute:\n",
    "        #list of resource in use for each consumer\n",
    "        use = [0 for i in range(Nb)]\n",
    "        # list of consumers for each resource\n",
    "        consumer = [[] for i in range(Nr)]\n",
    "        for i in range(Nb):\n",
    "            # if all are depleted, bug still uses its least preferred nutrient\n",
    "            while system['res_available'][preference_list[i//Size][use[i]]] < 1 and use[i] < Nr - 1:\n",
    "                use[i] = use[i] + 1\n",
    "            if system['bug_available'][i] > 0:\n",
    "                consumer[preference_list[i//Size][use[i]]].append(i)\n",
    "        # find the earliest depleted resource\n",
    "        t_dep = T_dilute - t_switch\n",
    "        for i in range(Nr):\n",
    "            if system['res_available'][i] > 0:\n",
    "                def remain(t):  \n",
    "                    # S = c - sum(B0(e^gt-1)/Y)                \n",
    "                    return system['res_concentration'][i] - sum([system['bug_density'][j]*(math.exp(t*growth_rate_list[j][i]) - 1)/yields_list[j][i] for j in consumer[i]])\n",
    "                # a little bit tricky here...\n",
    "                t_i = root(remain, T_dilute + 1).x[0]\n",
    "                if t_i < t_dep:\n",
    "                    t_dep = t_i\n",
    "        # update the system according to this t_dep\n",
    "        t_switch = t_switch + t_dep\n",
    "        temp_bug_density = [i for i in system['bug_density']]\n",
    "        for i in range(Nb):\n",
    "            if system['res_available'][preference_list[i//Size][use[i]]] > 0:\n",
    "                temp_bug_density[i] = system['bug_density'][i]*math.exp(growth_rate_list[i][preference_list[i//Size][use[i]]]*t_dep)\n",
    "        for i in range(Nr):\n",
    "            if system['res_available'][i] > 0:\n",
    "                system['res_concentration'][i] = system['res_concentration'][i] - sum([system['bug_density'][j]*(math.exp(t_dep*growth_rate_list[j][i]) - 1)/yields_list[j][i] for j in consumer[i]])\n",
    "                if system['res_concentration'][i] < c_threshold: \n",
    "                    system['res_available'][i] = 0\n",
    "        for i in range(Nb):\n",
    "            system['bug_density'][i] = temp_bug_density[i]\n",
    "    #print(system)\n",
    "    #print(\"diluted once\")\n",
    "    return system\n",
    "\n",
    "def dilute_check(system):\n",
    "    t_points = []\n",
    "    c_points = []\n",
    "    global t_system\n",
    "    t_switch = 0\n",
    "    t_points.append(t_switch)\n",
    "    survivors, concent, pref_list, growth = output(system)\n",
    "    c_points.append(concent)\n",
    "    while t_switch < T_dilute:\n",
    "        #list of resource in use for each consumer\n",
    "        use = [0 for i in range(Nb)]\n",
    "        # list of consumers for each resource\n",
    "        consumer = [[] for i in range(Nr)]\n",
    "        for i in range(Nb):\n",
    "            # if all are depleted, bug still uses its least preferred nutrient\n",
    "            while system['res_available'][preference_list[i//Size][use[i]]] < 1 and use[i] < Nr - 1:\n",
    "                use[i] = use[i] + 1\n",
    "            if system['bug_available'][i] > 0:\n",
    "                consumer[preference_list[i//Size][use[i]]].append(i)\n",
    "        # find the earliest depleted resource\n",
    "        t_dep = T_dilute - t_switch\n",
    "        for i in range(Nr):\n",
    "            if system['res_available'][i] > 0:\n",
    "                def remain(t):  \n",
    "                    # S = c - sum(B0(e^gt-1)/Y)                \n",
    "                    return system['res_concentration'][i] - sum([system['bug_density'][j]*(math.exp(t*growth_rate_list[j][i]) - 1)/yields_list[j][i] for j in consumer[i]])\n",
    "                # a little bit tricky here...\n",
    "                t_i = root(remain, T_dilute + 1).x[0]\n",
    "                if t_i < t_dep:\n",
    "                    t_dep = t_i\n",
    "        # update the system according to this t_dep\n",
    "        t_switch = t_switch + t_dep\n",
    "        temp_bug_density = [i for i in system['bug_density']]\n",
    "        for i in range(Nb):\n",
    "            if system['res_available'][preference_list[i//Size][use[i]]] > 0:\n",
    "                temp_bug_density[i] = system['bug_density'][i]*math.exp(growth_rate_list[i][preference_list[i//Size][use[i]]]*t_dep)\n",
    "        for i in range(Nr):\n",
    "            if system['res_available'][i] > 0:\n",
    "                system['res_concentration'][i] = system['res_concentration'][i] - sum([system['bug_density'][j]*(math.exp(t_dep*growth_rate_list[j][i]) - 1)/yields_list[j][i] for j in consumer[i]])\n",
    "                if system['res_concentration'][i] < c_threshold: \n",
    "                    system['res_available'][i] = 0\n",
    "        for i in range(Nb):\n",
    "            system['bug_density'][i] = temp_bug_density[i]\n",
    "        t_points.append(t_switch)\n",
    "        survivors, concent, pref_list, growth = output(system)\n",
    "        c_points.append(concent)\n",
    "    #print(system)\n",
    "    #print(\"diluted once\")\n",
    "    return system, t_points, c_points\n",
    "        \n",
    "def move_to_new(system):\n",
    "    system['bug_density'] = [(i*D > b_threshold)*i*D for i in system['bug_density']]\n",
    "    system['bug_available'] = [1*(system['bug_density'][i] > b_threshold) for i in range(Nb)]\n",
    "    system['res_concentration'] = [(system['res_concentration'][i]*D + Res[i]) / (D + 1) for i in range(Nr)]\n",
    "    system['res_available'] = [1*(system['res_concentration'][i] > c_threshold) for i in range(Nr)]\n",
    "    return system\n",
    "\n",
    "def invade(system, bug):\n",
    "    #print(\"one invasion\")\n",
    "    # (starting from a new flask)\n",
    "    # then add invasive species\n",
    "    system['bug_available'][bug] = 1\n",
    "    system['bug_density'][bug] = b0\n",
    "    # then dilute till steady\n",
    "    for i in range(dilute_to_steady):\n",
    "        system = dilute(system)\n",
    "        # move to a new flask\n",
    "        system = move_to_new(system)\n",
    "        \n",
    "    ext_list = [i for i, v in enumerate(system['bug_available']) if v==0]\n",
    "    system_copy = copy.deepcopy(system)\n",
    "    t_system.append(system_copy)\n",
    "    return system, ext_list\n",
    "    \n",
    "def round_robin_invade(system, ext_list):\n",
    "    for bug in ext_list:\n",
    "        system, new_ext_list = invade(system, bug)\n",
    "    return system, new_ext_list\n",
    "\n",
    "def output(system):\n",
    "    survivors = [i for i, v in enumerate(system['bug_available']) if v != 0]\n",
    "    pref_list = []\n",
    "    concent = []\n",
    "    growth = []\n",
    "    for i in survivors:\n",
    "        pref_list.append(preference_list[i//Size])\n",
    "        concent.append(system['bug_density'][i])\n",
    "        growth.append(growth_rate_list[i])\n",
    "    return survivors, concent, pref_list, growth\n",
    "\n",
    "# simulation\n",
    "start = time.time()\n",
    "Res_copy = [i for i in Res]\n",
    "system = {'res_available': np.heaviside(Res, 0), 'res_concentration': Res_copy, 'bug_available': [0 for i in range(Nb)], 'bug_density': [0 for i in range(Nb)]} \n",
    "t_system = [system] # snapshots of systems at the end of each dilution\n",
    "# ext_list: list of bugs not in the community\n",
    "old_ext_list = invasion_list\n",
    "print(old_ext_list)\n",
    "system, new_ext_list = round_robin_invade(system, old_ext_list)\n",
    "count = 0\n",
    "while new_ext_list != old_ext_list and count < 100:\n",
    "    old_ext_list = new_ext_list\n",
    "    survivors, concent, pref_list, growth = output(system)\n",
    "    print(survivors)\n",
    "    system, new_ext_list = round_robin_invade(system, old_ext_list)\n",
    "    count = count + 1\n",
    "end = time.time()\n",
    "print(end - start)"
   ]
  },
  {
   "cell_type": "code",
   "execution_count": 259,
   "metadata": {},
   "outputs": [
    {
     "data": {
      "text/plain": [
       "([13], [0.0010000010000010312], [(0, 1)], [array([3.52581408, 2.39577407])])"
      ]
     },
     "execution_count": 259,
     "metadata": {},
     "output_type": "execute_result"
    }
   ],
   "source": [
    "output(system)"
   ]
  },
  {
   "cell_type": "code",
   "execution_count": 370,
   "metadata": {},
   "outputs": [
    {
     "data": {
      "text/plain": [
       "([13, 37],\n",
       " [0.0009522522990474171, 4.774870095359517e-05],\n",
       " [(0, 1), (1, 0)],\n",
       " [array([3.52581408, 2.39577407]), array([1.7048424 , 3.35387717])])"
      ]
     },
     "execution_count": 370,
     "metadata": {},
     "output_type": "execute_result"
    }
   ],
   "source": [
    "system, ext_list = invade(system, 37)\n",
    "output(system)"
   ]
  },
  {
   "cell_type": "code",
   "execution_count": 436,
   "metadata": {},
   "outputs": [],
   "source": [
    "for i in range(400):\n",
    "    system_copy = move_to_new(system_copy)\n",
    "    system_copy = dilute(system_copy)\n",
    "#output(system)"
   ]
  },
  {
   "cell_type": "code",
   "execution_count": 437,
   "metadata": {},
   "outputs": [
    {
     "data": {
      "text/plain": [
       "([27, 78, 104],\n",
       " [0.15594611907474792, 1.2922662268814682, 0.05178915404529014],\n",
       " [(0, 2, 1), (1, 2, 0), (2, 1, 0)],\n",
       " [array([3.49147514, 2.27693312, 1.76192566]),\n",
       "  array([1.87806708, 4.43660855, 1.36557932]),\n",
       "  array([1.85957116, 1.38519304, 3.63244828])])"
      ]
     },
     "execution_count": 437,
     "metadata": {},
     "output_type": "execute_result"
    }
   ],
   "source": [
    "output(system_copy)"
   ]
  },
  {
   "cell_type": "code",
   "execution_count": 417,
   "metadata": {},
   "outputs": [],
   "source": [
    "system_copy=copy.deepcopy(system)"
   ]
  },
  {
   "cell_type": "code",
   "execution_count": null,
   "metadata": {},
   "outputs": [],
   "source": []
  }
 ],
 "metadata": {
  "kernelspec": {
   "display_name": "Python 3",
   "language": "python",
   "name": "python3"
  },
  "language_info": {
   "codemirror_mode": {
    "name": "ipython",
    "version": 3
   },
   "file_extension": ".py",
   "mimetype": "text/x-python",
   "name": "python",
   "nbconvert_exporter": "python",
   "pygments_lexer": "ipython3",
   "version": "3.6.5"
  }
 },
 "nbformat": 4,
 "nbformat_minor": 2
}
